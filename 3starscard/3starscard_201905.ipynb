{
  "nbformat": 4,
  "nbformat_minor": 0,
  "metadata": {
    "colab": {
      "name": "3starscard_201905.ipynb",
      "provenance": [],
      "collapsed_sections": [],
      "authorship_tag": "ABX9TyPtJc7CuHgDb4EIS7PDfx8D",
      "include_colab_link": true
    },
    "kernelspec": {
      "name": "python3",
      "display_name": "Python 3"
    },
    "accelerator": "GPU"
  },
  "cells": [
    {
      "cell_type": "markdown",
      "metadata": {
        "id": "view-in-github",
        "colab_type": "text"
      },
      "source": [
        "<a href=\"https://colab.research.google.com/github/jmins33/Pandas/blob/master/3starscard/3starscard_201905.ipynb\" target=\"_parent\"><img src=\"https://colab.research.google.com/assets/colab-badge.svg\" alt=\"Open In Colab\"/></a>"
      ]
    },
    {
      "cell_type": "code",
      "metadata": {
        "id": "N1qb9jVAwfrU",
        "colab_type": "code",
        "colab": {
          "base_uri": "https://localhost:8080/",
          "height": 73
        },
        "outputId": "cd6aee06-8ec8-4cb9-e6ac-c724b5bee3e5"
      },
      "source": [
        "import numpy as np\n",
        "import seaborn as sns\n",
        "import pandas as pd\n",
        "import matplotlib.pyplot as plt"
      ],
      "execution_count": 1,
      "outputs": [
        {
          "output_type": "stream",
          "text": [
            "/usr/local/lib/python3.6/dist-packages/statsmodels/tools/_testing.py:19: FutureWarning: pandas.util.testing is deprecated. Use the functions in the public API at pandas.testing instead.\n",
            "  import pandas.util.testing as tm\n"
          ],
          "name": "stderr"
        }
      ]
    },
    {
      "cell_type": "markdown",
      "metadata": {
        "id": "4USBnsgp9YLb",
        "colab_type": "text"
      },
      "source": [
        "## Google Drive 연동"
      ]
    },
    {
      "cell_type": "code",
      "metadata": {
        "id": "0Xu9nZH2wq0g",
        "colab_type": "code",
        "colab": {
          "base_uri": "https://localhost:8080/",
          "height": 53
        },
        "outputId": "4b46f58c-2fe3-4d8c-8bb6-6ec6c5b55e55"
      },
      "source": [
        "# Mount Google Drive\n",
        "from google.colab import drive # import drive from google colab\n",
        "\n",
        "ROOT = \"/content/drive\"     # default location for the drive\n",
        "print(ROOT)                 # print content of ROOT (Optional)\n",
        "drive.mount(ROOT)           # we mount the google drive at /content/drive"
      ],
      "execution_count": 36,
      "outputs": [
        {
          "output_type": "stream",
          "text": [
            "/content/drive\n",
            "Drive already mounted at /content/drive; to attempt to forcibly remount, call drive.mount(\"/content/drive\", force_remount=True).\n"
          ],
          "name": "stdout"
        }
      ]
    },
    {
      "cell_type": "code",
      "metadata": {
        "id": "yntdjkSIwrG3",
        "colab_type": "code",
        "colab": {}
      },
      "source": [
        "# import join used to join ROOT path and MY_GOOGLE_DRIVE_PATH\n",
        "from os.path import join  \n",
        "\n",
        "# path to your project on Google Drive\n",
        "MY_GOOGLE_DRIVE_PATH = 'My Drive/3starcard'\n",
        "PROJECT_PATH = join(ROOT, MY_GOOGLE_DRIVE_PATH)"
      ],
      "execution_count": 37,
      "outputs": []
    },
    {
      "cell_type": "code",
      "metadata": {
        "id": "wOV-JIEawrrH",
        "colab_type": "code",
        "colab": {
          "base_uri": "https://localhost:8080/",
          "height": 107
        },
        "outputId": "584a48bf-3af2-4c53-eac3-384e194e047d"
      },
      "source": [
        "%cd \"{PROJECT_PATH}\"\n",
        "!ls"
      ],
      "execution_count": 38,
      "outputs": [
        {
          "output_type": "stream",
          "text": [
            "/content/drive/My Drive/3starcard\n",
            "'[기타] SCDC_공모전 테이블 설명.xlsx'  '[Track1_데이터4] variable_dtype.xlsx'\n",
            "'[Track1_데이터1] mrc_info.csv'        '[Track2_데이터1] trend_w_demo.csv'\n",
            "'[Track1_데이터2] samp_train.csv'      '[Track2_데이터2] 업종_예시.xlsx'\n",
            "'[Track1_데이터3] samp_cst_feat.csv'\n"
          ],
          "name": "stdout"
        }
      ]
    },
    {
      "cell_type": "markdown",
      "metadata": {
        "id": "Wlg-fPFk9eZ-",
        "colab_type": "text"
      },
      "source": [
        "## 데이터 불러오기\n",
        "- 2019년 5월 데이터\n",
        "- 2030으로 보이는 연령대\n",
        "- 기혼스코어에 따른 업종"
      ]
    },
    {
      "cell_type": "markdown",
      "metadata": {
        "id": "g2gMi3MICVRH",
        "colab_type": "text"
      },
      "source": [
        "![image.png](data:image/png;base64,iVBORw0KGgoAAAANSUhEUgAAAgAAAADdCAYAAADNR8oiAAAgAElEQVR4Ae1da5LjrA7NunpBvZ5ZTa/k+3cXk1sSBiQhAX4lsXO6aiqYhxBHQjomHufx33//PfEPGMAH4APwAfgAfOC7fOBBBscfELgrAo/H465Lw7qAABAAApsRoNgIArAZPgy8AgIgAFewEnQEAkDg1QiAALwaccz3cgRAAF4OOSYEAkDgAgiAABxlpL/f5+Pn3/N/G+T979/P8/H7t2EkhswgsJUA7LLL//49fx6/z0OsulEW6f/zjzzy7/n7+HlycQawYZ//Pf/9PJ7ssht126tTXdtQWXQAAkAgQAAEIABGVv/9Pp4MFH1fov6JoOoRAKpT/eX4mhziREOBW47xylWO1BnligDZQP117CJ5mGuXzthk68UnZhMj9/Ps+liS9/P5dGWlJOz610JEa5JcTwB47Z7vsewBAeis6VFIUaBTF9/q63VtyrK4AAJAYAUCHD/wEGAfMSIA6U6q048CV+8EwA3iSZ6baLgpCJIdNdDUItAQgLYLZdnnvx9B6Djv7jiZ6djbnd5Uks8VMrJRVk2Se/xIJPuio6hbo5vqO6FTZ0/VtRWlUAACQGAlAiAAE4CBAEyA9MFdpgiASk5pMTExEwlwWXeTkBx58xCZ5NiRJX3T6lt1MvLmFVmIkSAjPFasv6NbM43qO9aJ11NODLS0ujZdjysgAATmEQABmMBKBtmwe+duhcfw0WY9wpRybOCubRQk/eNhNhy1ldvEOgoljYAmACl5FfwkvgbL2C4iAS5TNQlJJTutz/CKxsrTpI4sOa8s0xz1epxsY52SD2poxPo7ujUyVd+RTtVO6fStXmfbDU/lGgVQAQSAgESA9xK+ApCQtOUjCAAF44d4EItk5kDGnzrCLkqMgmSrK2paBAjf/p+PM9vMtYtIgIvgmmxLxdRDgI0fLIREJTeVOPVK5Ly5zHorOf76tKTgiudevgJbytlvGZqObulrFXF6QH0LsenrxLjQBCxffzVDmua1BlqjGggAgQkEeC+DAPSR2k8AKGH8PH9//e+UOWC7iaYfJPtaozUjMCIA1b6E9wwxez5pjDRZk5C6iTFr5nx647iu6iXJgZxXlklyvd7uRySDg4RcLD8vsazf07csyxAldUqmsa5rWuoLUaD/xJAeppUq1LWVyVAAAkBgJQIgABOA1QTR6ayCm+lX2ii4tV8DcJCV0a0M10GSjWUT1EMnojIUhYJAjwAw9jLZlFEpgUZfsVgC0PhINzGKSVQx2btxhY4s6TtWh5okSW57F62mdi9yArfjcz2zjM5Jh+hH8ss+4AtXJ1qDizljUNdQ1+YqjkogAAQmEAABmADJBlZ3iApusocOnjJg515eXW7D534EIgLAuAfJn2bt2YV8Qibqxkc6SdtdEffXMku/jiypo9WB2tKdtfbBIndQkPjIedTRfkc31a+Za5tOjRhUAAEgsBkBEIAJ6CiwMlDO3Xf5f80uAUh3QPV4M03mBWr3rmdCN3QZI9ASgGSX7n/bdAnAMs71A+EjRCq6iVHrnP1LEgrVw5PFdWJOoxPJ2kUAWH69404v7skERdzZe7oV5UW/UpcLAwIwWB/Z1O6rLBmfQAAIzCEAAjCH07iXQwBsoq9CdGDUd1e1F0rHIGAJACfcMNvWOXfZpZsYzRzO10K1x+iYXfVUF9sJgPbPIrSsSbSXuqUX7QNDRtprIhYzBKD9uizrUteWa/AJBIDAWgRAANYiFvV3CEDU1da3iYaCY3x31wZU6hsHSzvft10TXlv+WruskGIT44qhTdeNsmqSNMl2o7yqV4cA1E6DktHJ9h7oWNdmB+IaCACBWQRAAGaRGvU7lACMJkP7GgRAAEyyJV+dOAGJMQYBiLFBCxC4DgIgAEfZCgTgKCQPlwMCoAnA/rvnVxGA/ikYngE4fKtA4JchAALwZQb/xuVuJQB3xervVz7cd9dVYl1AAAiMEAABGCGE9ssjAAJweRNiAUAACJyAAAjACaBC5GchAALwWfaANkAACHwGAiAAn2EHaHEiAiAAJ4IL0UAACFwWgUIAuLD6v571H9KBTOADH4APwAfgA/CBD/YB/BjQZQkcFJ9AgIIP/oAAEAACQEAjwMQMBECDgqt7IQACcC97YjVAAAgcgwAIwDE4QsoHIwAC8MHGgWpAAAi8DQEQgBOgp3fN84vWBq8zPWHqWOQn6RJreUrLKwnAmbYvrybeYcv9LwE6xUQQCgSAwBsQAAFQoNMb02beqZ/ehMbgiQcn85vJjksCk/q4byEUb2ujNe5IGgqiC17MEYBJrJ/n2Z5/pEj4U/Wv5JPTBMD1h2S4dQTAX2vV6/Ec/aLiBd0FKgOBr0GA9/J3PgMwEdxKMLakgMbGb1ObJgDdpCz06/xmPXuqG/DT+PLK9+5c9/b3lgAIbIuNo6d0T7L9Bsg3EwDyD7HOTFTHKvT9fDwePYAAEPhkBL6YAOwxS5tAfv903cxXAEQUvGCc7wRzGwd+CuAlmxvdTYCXwb4MYQKQk1xMXozkW1y2BGDPsrSdSfYW20calCRPHQyxK20jMsf+YIlLmpFkZL+KdKj1IAAVC5SAwP0QAAHg0/EfdYeUE2gcKPuBce4EQP9ASzqiTwk6mrcQgYdJ4CZRJDdNiUoTAD8p3M+t9Yp6BKBimslR3wZP/grA4C+mm7O9GGCKJclTPdn19++pdCSDDghAJpDF9mIOkhX5l+i2FPt+3vZHDRAAAldC4MsJQEqS/veYo7adSWAJ7oc4CwhAF0afAIzsG32/3U+KewlATvq8IOMjhRx0CAD3oa+MZB+Ss/krAE2MpJxU/k5S2XU4NAKBiyDAe/g7nwEgC40e/Iral+QhgioDuXxXP04Cabx3h7bJb0yAl0G6zCETwqZJrjuI8Gj/ItvmnlH7Xttn+cGnTPqynE+qOicA6aRAJGT2C01U150ABDqiGggAgVsg8OUEYAnm7kN2vbadtqdkrOakZDO607LtItDPqAMCYFDq2bfXZsQcdjnwgfxVQEAA+Nhf+dSiGNu9koA5AjDQxfXVlf54GG4QBASAwFYEvpwAJNjSnZNNsP4DehroJVG4ATHLawMjBeu572Gju1CtBa76CPgnAGnMq23f17TfyroGBKA/srbOEYDaHyUgAATuiwAIgLLtwQnXveumOeodmZq+uVijD/XNpCP6bMlIM+UNK3oEoC53DdZ1VFhybR/2Ng2+j0wRgMG8WwgAny44vjVHYs3ScAkEgMDHIAACoEyxNglsOAEw3+uq6Tl4R8k7129M4oPEoPS42cU5BGCD7adx9QnA1PBD7byssTxIojUIv3bQ3XAFBIDAhyLwpQSAAmxOqLOfXuJNATKIj47J1/Y3IvYE9z1jjRpXu9QE4E22X4X/hxCAoc6kp7cvruYh0BcIfCcCX0oAjjL2yoROAdV7UGtWnWFA7gjaM7Yj9gpNmgAcpfFK2/dOfhqVPoQA5Nceuww3rd//L7TNglABBIDAByIAArDLKEsQHJwm5Pg5//BfoNSeJL5nbKDOVarPJAC8gTr2z7Zf99373ClFlq3swHYenWqtu2vHMwAKYVwAgdsgAALwMlPiuPRlUJuJziEAZpLB5d/v7IOfA0FoBgJAAAgchAAIwEFAQsznIvAJBOBz0YFmQAAIfCsCIADfavkvWjcIwBcZG0sFAkBgGgEQgGmo0PGqCIAAXNVy0BsIAIEzESgEgAudh5nQPnqwCu3wEfgAfAA+AB+4mA98748BncmtIPtTEKCAhD8gAASAABDQCDBZAwHQoODqXgiAANzLnlgNEAACxyAAAnAMjpDywQiAAHywcaAaEAACb0PgPgSA3rTmvmXv8/7/fflRF9fs3hvmZN3W9Wwd5yp5qcouAfg0vzn5hU1v8b2T1lRerrRDfh+PjpvvmLMjFU1A4KUIfDkBmHmT34YXuFBSKQ9UtuP7QUcm++wLsq6fyGPZ8TgeU/SNH2C56q+/HU8ADvCbiHjsTSxv9L3n4Wsin7X+WN9iSH7LPuli1rORlvGwr1RkeXbedF32gDtn3q/eZ0+fZS73BsaThTogcAwCFyYAXnDQmzbt6zjxjSGcGGsDAQdgkfS5XVw/n882SfeDw+9fap9ZTys7r3JiLbnrzT41AfgQvzk8WT6fnIDlT02/2PeOJwDGEc1emyEANrcbic5etD3qNb0SucgzutReUYn2sI4DUU/UA4FXIXBhAjAL0Z7ENx6r3+8vE3XVj5OyvZMpkaT2i0tSbl8nnsu9k+iPo7n1WpI2MaGItf20Fk0AZrUb4xVLmhh7OAGQPlI1e6Xv3ZsAkE1FAgcBqE6G0mURuD4B4I2o7/z1kR5t3Nxej/48i1GwLEd83GEUyE1QeAb9SUeRlMOkyqcHWVf6zPqm4M7G4rXkeruKpM+Pe6dBbVm2CGRChKeXVyeGXKLoEoC3+k2+W3fsuDqxZBO82/fOWlP22fz5+/z376d8xTb6CmDEs6f92+zh52o70R729122ID6BwKsRuDYBCDah3tRBYHSQpnGKAATyy1BK2DLChP1TYv73vzRS67dIc8ZyPyYO8u4uXk+5g3fvLvvjKrnIgdb5lGstIHx+oSEADta0Cm2XGC+74tV+s5y2POQdZRYa6Jabw89w3Gt8j/Qi/zt0TUyo46RZcHfXbklz8me1vxubJ3TTOlr/V2PdOUPr0EzPfz+tTL3vHELYE4k2ILATARAAAWAJKKIuLsqkvPQKg8LZQXgJLjJB82mCDCjzCS1e8zVbXk4AhjAlW9CdrEoqNI59qCYKadKu2Lf5XtbqhDUdQABc/OxJm9spryvbRO6lXFft1NhRDEcRCHwqAtcmAISqCZi8ILWhvcRHdXXz8pjhtRMAxLF+MrA316Kj6KvvNIVr2MBUxkiyYedIbW4AUiTAjqN5D8BBqP+pxYYAkKLv8pvlTjnZi/A3d7hhIh+h69n3bN+rOpXTJy9p71qTwadOySc2jKMrX+4ZMcgUw71Y+qU9okIKtblzlkGi8B17TCwYxQshcH0C8Cawa8DTClC9DRYcZCzBsJ20mM5VEOg7I1LTmnFr+g4nfnsHlwC8SysiZYXYMRvQ19OJpV3A23zvtDUFyXPZO+XEzsXsAALActv9zMi7c7Y2QQ0Q+GQEbkMA3CRLSVcG28AS0Vj3rpplUGAK7kw4MIg2e803Dz/62YFGrxS82DiGOMQ6LULsKUIe3yUc8XxFhwkcm2V8SEWPAES2P8Vv2DbCN4rJhJ/uSSzW1+z1Gb539po6PjRDAIr/5n2QPxd/Zvs7e4PIFI11mpJGG+2U5Vq9hvu6gwOagMBWBNgPr/5bALypggSVArw5vi9oLYnP3eWdNgp67phFsErCbcCPgg6P5sASB57eWre2pQeUWj0rTPp/MZT6ixTIyb2/Hl7H+026m43chnThto2Jpazvpb73ojV5XyuUBe8reHuxb/tlvtV26sST/ABlEMP2rRCjgUCMwA0IQOdunNedNp4beEeb2G3vyItxVi1e0Mkdem2pD63XIzQjHHrttKZvIwA9PAjpjp1dv8gWXPP9sBiTi55sry73X/nZ869eW5om8r2BEp7+Xl0oZmSrcOCwYbzmQMQq/Wd8YiO2gXqoBgIzCNyAACz//Shgz7zB3YRJ8KQg79/NB2208YO5ZgDnWen/MbuMJAeKHScAwVp7d7s4AWgtd7jftFP4NV5iGZ04+ZLc2m7C47m3+Z47Wa7cvaYbEICZWLMzrmS48QkEZhG4BQHgxaqjT/GEf5RoBUIp2Isxy/eE3vdylEi9eiFuWOwGYR69kI/8faX4HM69CYd4PnYQmv/CwYnWEP5twitJW+M34fy2wUmWNM/Q7lZOcH2q7wVzek/Mr1sTEYB2fxbfXNq2YDTGI1iUY6egp6pmIu6sZYvuSjAugMAGBO5DADYsfv0QHNOtx+z9I7oE4P3qDTX4++18PTMc/Zkd7rimz0QaWgGBGAEQgBgbtNwEgasTgJuYAcsAAkDgwxAAAfgwg0Cd4xEAATgeU0gEAkDg+giAAFzfhljBAAEQgAFAaAYCQOArESgEgAvOwymoHz98BIyAEXwAPgAfgA9c0geu/iKgr6RuWPQ0ArQp8QcEgAAQAAIaASYsIAAaFFzdCwEQgHvZE6sBAkDgGARAAI7BEVI+GAEQgA82DlQDAkDgbQiAABwMffhiEXrhzMaX6ax7acrBC7qBuMsRgB2+cgNzNUs40/93yZ6wU/mNB7uqibF2yNz1zneVnKbXnPbo9VoEQAAOxnsdAei84Uy8wXBXkDp4fVcUN0cA1gTOjt3Kg7Te7zUsr60ufeRDU+JlP6MgvLyylzdvkSXGbzLSnrdBbsSD1ln0l1hQueK3yf97sgURH8ru2aLXttjgWAKQbCRCg2PpCT/u6d1ra2bb4zONMFS8AQEQgN2gjzbBEsjcjeVvVksihkFq9xruLWCKAHBSnU2iZLfZvhrbqVdJu76S5LBveHMvpGD7K2UHyaWjk16hd+X7uerZkb/b//fI7ox9em1UF5IaQWy8sQoQ72JgIx6yD2t3TZ4qXEf6bNsHoUg0vBQBEICD4eZ3fYs7jCLe3fD+ZgUBKKgdUpghACmxzv7OA9nN3rGaa88Hlp99HSZp11fyD0V1Au4qEmOhHSSXSCcrxr32/Vx2TfjXu37bNsRMDjDlXbJ76+61GR2ay01jBzbiScZYd5P8Kr1AABq7XqwCBOBIg9Hmefw8f36cROJuLH+zggAcaZQn35F1JXLipORD9ugk2CJktl8ZUAq7TgBcHyqiy69b9o+IZX9ZHiSX4dxSlikXfE19uUxzUzBKib5ec4Aq9WXAikKVtUk272mfmAwTqSKJxq824TmwEaNCvpnJqJkzo7Z1TXl8+SR9gjlKHxQ+GQEQgEOsk4NM3gzLJpR3ge6Gp35tcAEBOMQoRQg5efxnkvkwWZEkMyYW3rTsIgCjO/xRe6ONrMg+nJOH8yn9WQ4dlQeY8qkZsZZAf9oPW08Aimy2WftTxyPZvBcjUujuaVrGj3qGgeGxawvG9qGcJQBtTJFyt6xJjq/lCZ9x4lsdj9K7EQAB2GsBZtP5zkULSxttCTruhgcB0IidcxURADdQswpkF9+mScPUzpun3G3ZhJnJoF7TLgLA3wJQcnFkc4Lp6az1eOkV6eaShwVH2bbsJ3mKQXZaTwAc2Q5Gfdkk4+f5+xvM7+7p9KCnp6+yfTC2b5dRws2nWD0CsG1Nfb3QelUEQABeZTl3w9NmbDcrJyYRAftB6lULuO48DQFYkowXpOUq2Q6P9q5R9llbVkkgGuz6iui8JDJNQBxSIIacU1ySbEiCLCmi6+rv9e7caMfrq+vZ4v+hbHN605PN9ud96O/T6CuA5Dd1nbw6s6ZorEFiw2Wg6yJp65q0IvvsrmXh6p0IgADsQn92I/w+/9yg7m/WukmTcnQ9Sla7lnHzwQ0B2LzeWXvLxKcTwSEEoOjv+09pnirsX1MzDSc7ve6mz4dUhHvLroH2ryDlrL67p9PCeA8rYlQJzWjsadDsXNNpekHw2xAAATgYepu8i3g3WHSCrwg2YZAqwlHoIXAcAdCzeMk8tP8ylO9MVWJwyILrK3rudHUEAfDkUh3JNkkr6mrrbaKx7faa+0sc2vJmAjzQxd9baV+KLcgaN6cKE3aiMVbOImzbi8FoTuU/P89//2ydR76OW5M1X+TTm21mJ8D1aQiAABwMbZgAJoJFpIofpKLeqLcIfBIBsLq519O+ciQBsAnfXrua+pWDpNsMGvTf5f8D2Y0uz/6DdpTsSmKbsNPhBEAp7NnI84lj11RVWJ5JcBnO8tIr+XxHHYjShyAAAnCwIUAADgb0AHGaAFCAbO8weSOE9d4dlf+wV2j/NetoEssOnacToE0m9nrFAqbnXGQO+jcEYNBfabqmrxo4cdHYafSQ3uJ3lDDt2E16ejaiOt9fJ1bU6tUbNNR5py69udF2CAIgAIfAWIWECcBu+DpkWGoC4HAEOkgENAGQLfvK6m5wERXaf81UO3ylmYZkBXdouq+XTHSP6athYjCSBv0b/59eU3550o6EaFRVl3vsZMeuWVNRwrPZzqRr9SpzeYXeCcDShhMAD7iPqQMBONgUYQJYtbG0Uk0A1M24GiDwzQRg3ncocYxORiafCRgk9MZc3L8/dzl2X/4rpLxu5MmKCdnyfybIocPyjj1tTwDm7SS1ejcBSLrgGQBpk2uVQQCuZS9ouwGBswjABlVePuTvdzJpv1yz7RNiTduxw0ggIBEAAZBooHxLBL6ZANzSoFgUEAAChyAAAnAIjBDyyQiAAHyydaAbEAAC70IABOBdyGPelyEAAvAyqDEREAACF0KgEAAuDB8C6j+oAxnABz4AH4APwAfgAxfygf/+++9CnAWqAoF1CFAwwh8QAAJAAAhoBJiogQBoUHB1LwRAAO5lT6wGCACBYxAAATgGR0j5YARAAD7YOFANCACBtyEAArAG+vDFH698+5ZWeNsLRLSMu19digCsfYmONV7oo7bjxPVeXSamuFSXvXhc3DYl1uzF4VJGv7eyIABd+47fjpbeSDYgALTx5QOW9tWsXmCwY+R48a7vsim76/juxi4B4GBmH9jpvzwnevOZsjHZy9rZnYvmFvONgqv1CzuH50ue+UNdxI/ddHUZ743Nb9jL+ro6CqxyP/F5C9ss69FrMa8z7tomCaDY0PjkQ9hX4JaKnk3rvCXWTMxdRU/8PgJeF1zhenGJ/QPPAOxFvUMAOGDXTUQz8caUTj8K2p32sin3LuHG4yMCkAKkk1CWxDP9utld2JHvCB16wfUIX8q6BvMofwr6JBFG7yz3oM+vtg39GPPvQ/1cMOMhY0bXNu34apYV7+g3cxTfMPVVtlei+YR/e11Q9zYEQACmoG+ZsU4OEQFIm83epD3tT452Ejypl4KhJhFZ7bIpcwU+GwRcAsBBrBOYRu3P5BPaDzhyq8DdKNNUmEQaBtdjfKlMH8yj/Cnok2QYvYvgAwoj7EftV7cN62/3u7H/LttE8crYzsxRfMPUm1HmEgTAAPJRlyAAQ3OkQK+TeNqMNfinPgymvJvjjewnGWL4ZXyXAKS5SHbqX6/TfLl+uJCv7UA4NX9dzKl3wlnbXUqxPpDamKzJOzU5xC2bRBoGV9NPyJr3JTEomKcEeeoa9ElSpM/br1CW6xg8oYhT/HbbBOtn38qYdm2zxAjXD3ttnk1/n//EVwkcg7pzW3vSfH4MtD1x/XoEOIfgK4AO8OTs3kaiTZo3o8vYSWbabKVbmcbUBxueuvNRIAngTdduJBWwi3wUJAIuAQjwLONG7YttColbBqogXYSVxuePepYjJ05hV57X3v3ReOMzRbap7/hSGcLi/j1/xLMkuU35U6gL9Y4JSZa1+XOE/aj94rYJfUjGnK5tEvIsx/E367PVTn2bFt+YmLvKTP6Zb1b8T8/fqwSUzkMABGCIbWLFOoknp64bifoETkyb1rTxxpSkwg3aad6H7fd4PKUuZVMO1/G9HVwCwDe49JCUSL4ZIg5w45MVtqM0RpB4stj+HfXSa5k7B0olfrMvFQ1qIQjiyp96upxJAL7cNp5fseEaApAJpI4J1chrS2cQgLU6oP8rEQABmEJ7ScaCTdfkTwI6BICb1/8vgHLnb/XjoFyTlgrYti+uGYGIAHCjSXIp8VZ8Wwhn7miWwCzJGwkKkq6aY9SHSUAN/PUUapHikkk1Q7oI5lH+FPRJAto9kUmL/FQExlGjW8Xzi7Xy/vsC2wQ2VMTAtc2cTaR99M1JMH4xYvENd25ryUCWiKFaD7JzcBNlReP6MATYBvgK4DA8twkKNvw2YRhlESAnH/9RwDo5AM0Ezpk+vcXM+lIwTwnyNEfQpzf9OW1fZhv3dMV81bPKNgfjt2ruczwCUo9BAARgEke+I9/KXkcbphe0eay9C9LX+jRickFf1O1WBGCPL0mbd/yq+NNoLinv1PLBCczTdWatoz6j9t4+Nzrx3b44QbLXfXJGeOkYwYFe1c2TXUUKjZ6zl1H8LL42Kwj9DkUABOAQOAcBak9gGIw9YnMeAsEHC/ksAtAJzHTUOrD3sH1FkhmabKTLUMBRHQb764hpeK2fZRtO+jlpCzLAy91jm1Vjl6+87PzTmC/jg++CmBhslj2tBDoGCIAABMDY6ojBVmbdYdSrNpyZeTAWBMDg5VxqAjBzd2QTQbbtnrGOYl7VwN5DAuDJ3Frn6rIDA1eeVG6HbD42t3YbXWe7Sh065ZH+o/aO6NVN3blmcJxZe0redJfOZGRLou7qSasmXWd0WY0QBkwgAAIwARJ1IQKw+bhquAk6SgzGggB0sFuaNAEY939rj4G9308AdqBDpxPBneAOqa8behnbUFLtPSw5ARnZyvyPo+dSty4O9k4A9p4uTKwDXboIgAB04amN4xOAzn/F4cAxuhsJNuzE2HUbsq7pW0r3IwAbfWmtwUcJb6W8y5PVER4Te9X9b6crceTuXV1mTgD8eMV3+vS1Q4eo5T5r4k4UP9fI2AITxvQRAAHo44PWGyBwKQJwA7yjJfz9BiQ3GoB6IAAETkUABOBUeCH8ExAAAfgEK0AHIAAEPg0BEIBPswj0ORwBEIDDIYVAIAAEboAACMANjIgl9BEAAejjg1YgAAS+E4FCALiQ/88pPvkJWGAyetgM7fAR+AB8AD5waR/Aq4C/k/19y6ppc+IPCAABIAAENAJMXEAANCi4uhcCIAD3sidWAwSAwDEIgAAcgyOkfDACIAAfbByoBgSAwNsQAAF4G/QrJj7y/e4rpr1L1z4BiN6alt5S1nkfSgeed73e9OR5uy+f6cCxq2mPHeinFX62v8Hz6c9dZW7Hm1+ms825dqGJwUBAIgACINHYXI6SyCKwEzijN2SpN4aBAGy2DA08kgDkt6DxxrEPy5Z3pceJoTteyOu9IS1OHvG8XQCXV7y6a2Kdlhf4hH681bN0WKEAAB7FSURBVP9pXPQAWX5pkJ+E0zvk/bESO8JKXndxaBr9uavMGG9t57yWOkFsw9qnlpIesX0ez0fxvToKJSAwQoB9Cs8AjGAatW8NgJO/MQACMDJAt52cXP7FpGtJKBxM/eAv5cRBPE4McvzWcn/enBTbpLN1vjLucAJQJJuC3E9jO8jBZFuZ8AkreS37+mWaO2PYftJNe5Xp25ntI3/ghgmWtkdsQ08rwkCP93qhDgisRQAEYC1ibv9+0EjM3f/FKxuwfPG/YPguMHOVlgDMjRonHiYS7p2XnxjkvJ7dZ5PCnnmlDrrcrrcmuqVnlwC0yTL5fa73/V/rkK8kfq1euZf3aXFt1uANWllXZUo9s5AUC+zpPttMVM7aOkkFAcjo4vNYBEAADsGTNn2HoYeBEycAh8A/EBIRAA7K8m5PJfNR4kmBXn1VU/TIbZT8fL/wEoBXV0SWQvK1H/eOkNrWJNoi9Pl0vu+uiW7pF/px0unf/6Q8UQ7H1T46cct1jOxQZVBJy5F367rf8Ip1zuRF/3BOxUXquUiM1mpO8eZsnbUEAchI4PNYBEAADsFzewBsktCSkNSxpQkeh6j8RUJaApCSiv3FMw7KhQT0E09JNK5tnMSw4B3ZmzeiJCPibrGaKunEvuEmGpo3Jy2feFRZttSutya6pa87J7Vt9/+sRcGTKtQ8i62WdVVY5FrzmtOn3DvNGvKE3c8ku86lsakyqZ8hXK4/5DVpPa3/xSppDBpfYWyMHrEwtACBggAIQIFiTyEORnWz+htUBb5IhSioRP1RrxAgG+g/speXIGW9Dro1qSz1NTvwd8L6ISwnMWgFNlwtPibmTb/PLv1q37zki1J8TXSLuioxyyUsuhXyYRLdRIKK94FOvnVWmtOzYe1BpWYNutm/ov0mgaBeVCfWl/zBwTvaq4RdIZdJr2YOXxvUAoHTEAABOA3aOcFx4BPjo6AiuqAYI9ASgDaJ02hKFjWRe4kn1VUyIObkBJGTsZMY+C7ZS4y9uixvz7xCx0HREoDGN0MCMBDsNs+SBs8OJPANBGBJ4JVUOHaOMCL/EKSCfU1cuxDt8hlfImqBgEQABECi8YZyE2Q9HUAAPFSm61oCQENTYuENkO/sxB1abh/GaFcLJzG4/ahyTd9QyCENryUAsyq/gQAsibfaXuvQJQDN2LROu8/nCMAsRugHBLYhAAKwDbdlFAXv3h2c15bv6pIICgwqCUl5OSGBAOyykk8AskiyoXeUrIN+7q0++a7fsV/NHKp7unCIh7Q5lbPdndE2keguW8jEhD5Zp+budr//a/29q8gOkd20jJqsdf3witdabStPfapMH29O7vLZAPYTve+3EIAoVkjdhutCByAgEAABEGDsLXrBectGb/QAAWggWVNxBgHgYBwk6l5bOlnwCMeyIko8gVzq4flYxcJPSLV9Z6khAJG8dXr019QjADVBNyR6wbAm60jX9fVVZrxO3veF2OnkTzOuiwsLSQuIZd/f1q8PI74HARCAA23tBbJ1Gz1QBgQgAGauWhEAc2fXJI4laP/+RYmH5qTA30ni3XaS2xk7QQAinVO9STbTSXsCy2lZcWL0ZvH2jddvS11N1svo6TXEs1WZ69YpJa6KC0Odt+shdUL5+xDgmIE3AR5jeC+QrdrokRogABEyU/Xk5Ov/egQg3Yk/5DGvmKB/R7afAMRHvk4iIN8J7hyFynPFYSLKYhw9cpPz6e0bp9umqpqsl+EH4FFlrlunXMC6uJB80bfj0tY5NZLzogwEJAIgABKNnWUvkK3b6IECIAABMHPVZxAAnpnsUo55xXF0N+EuAdsbl+s6wZzJRe7nfuoTgJqs5rDq9jqRALg4ivXFpKercfPfAI/Ao8p4FQFIa4xsvxWbPnJo/QYEQAC+wcpfvsZtBOAeoP39dr5uuMcSV60CeKyCC51vjgAIwM0NjOWNfg0QCAEBIAAEvhMBEIDvtPtXrfqbTwC+ytBYLBAAAqsQAAFYBRc6XxEBEIArWg06AwEgcDYChQBwQTx0g2vxUBdw8R92Ay7ABT4AH4APXNsH8N8Az+ZZkP9OBHAC8E70MTcQAAKfikA5AfhUBaEXENiLAAjAXgQxHggAgTsiAAJwR6tiTQoBEAAFBy6AABAAAowACMBRjrD6ZT3phTD8zpjpF6y0ytaXkrRtqEkIbCYAsClcCAgAgRsjAAIwYdzoDVzqV9u6yUIk+zKfqPMIQPSWOX7gpr7tDQSgABoWPAIAm4ZwoQEIAIEvQQAEYMLQlCya1216CTp8hatI9mU+UecRgNKPfwIu/IlYEAAJlF+OCABs6uOFWiAABL4DARCACTuHBEAm/KNPAIRelOSjH54BARBABcVVBAA2DVBENRAAAndDAARgwqLvJQDppIAMle5Y6zUbr9RPLORLu3weAag2hE2/1CmxbCDwAQiAAEwYISQA9gUY8u5RyaVfDVsSOB/315cMjR4CpLn5Z0B5XPvDLjgBUEC7F6sIAGzqYohKIAAE7ocACMCETUMCIBN+7yuA/LyA+pnY0TMAiTQ0Dxo+Hk8pBgRgbMBVBAA2HQOKHkAACNwCARCACTPyXbi9M6TrqWSREz0ldHkHn+ufz6fzEGC587f6mZMAEAALUHsdEQB2fmtX2LQFEDVAAAjcEgEQgKPMGp0AiHpK1nycz3P2CcBRakHOjp8DFrZTOIp62FQhgwsgAAQuhAAIwLSx7B28GSiSQmkxd+vPZzrWT0f4kwSAZdRnBry71ua/sxUFUCAECDP/Dzb1cUEtEAAC34AACMC0ldcmC5Hg5RzluF+0lzrZcSn32vjbg5/2HQWOmG+uOo4ACJtJQIuNRHupkx2Xcq8NNnUAQxUQAAJnIAACMI3qgABMy8kdkSwyEmd/biYAqxWDTVdDhgFAAAi8DQEQgGnoQQCmofqwjiAAH2YQqAMEgMBHIAACMG0GIgD97+If6in/keA1d4v9efEMQB/rPgHoYwub9rFFKxAAAtdFAATguraD5pMIxARgUgC6AQEgAARuiAAIwA2NiiVpBEAANB64AgJAAAgQAiAA8IPbIwACcHsTY4FAAAhsQAAEYANoGHItBEAArmUvaAsEgMBrECgEgAvDh9xGD0yhHTjCB+AD8AH4AHzgMj7w33//vYZuYBYg8AYEaCPiDwgAASAABDQCTFJAADQouLoXAiAA97InVgMEgMAxCIAAHIMjpHwwAiAAH2wcqAYEgMDbEAABeBX03o8F8dz0gqHf59+r9PjCeV5OAAbv+h+aIPSV4cjjO5Au6derjpc9JXHyhVksK3pbp5AxNafudNpPbu/1E60mroDAagRAACYg+/udfKClFyjDoN4jAClwsZGiBzTl79dPrOUbu/QIAP+cr4Nt+HZFDtqeP/w8//1vQXcU2MkX5JzWb0JfmbFez5/keOrnrWOpy34VEoADfZPwyvMVCPOPXInkPcKVf21T2KEsV8godc/n09pB4VFJ+SYCEPrJo/54V3c9A/uwrlVHuSy/fKC9/AlQe0EEQAC2GG0JHDZua1HjDZzG9wI2bVovoC0zOYFT64ArQiAiAEzsTOJJiC3Bsm9gAS7ZUNipF9jZd3TgZhIi9aA+8lrMNCzy3EKX4YBBB9LFxWGfb6o1O35ck26yBavg4Dok54yjkBEtt4N51SUa7NQ7ulIvJSvok6QZn3KmWFc1sJcjLN4fTmdUXRIBEIC1ZuMA/vP89/fv+SOD/lo5pT8IQIHipIJPAAYBthucraJGVjg2SkSmvpOM7Mz2mhPrQ9xl2g7qOs0rTzs46MuEfwYBsOtjvNrTiKSXwCbEVS3KuRAynFaqSrhpYpa7qqSdK0efga5KVtAniTY+NZpv2E4YrCeG5A/SP4bToMOlEAABmDVXCVIySNAmfQR3SFnw0kccL+oNJdulbBqfAhcbSYxX11vvFLN6X/DpEwA6AX4Ed9oL7jIRdnEywToM7KafkKkCrU2Qol+3WOaN57Hj1bx8Km4CfpcAtEl77JtOIiK9jR/XRGn3gN0jaUVsS7lHlLwkIzZnnUOSDrkWvWctis51sYVuq+ti1vH8CZ//kXEhwDlekJ6UrxzcnV5tFenhY972Rc3VEGAfx38D7JiNNzJtQLkJzKagIMnBxzLstIn1Pk3BpgYUI6ujypO/45R6dDujcUGAbBP9UUCWgT6Xq33MyOIPNigL2wfBPxM67Q8k3ySoTQSA/GhGB70eXr9QyBIC/p5ctOvR8mrSj721EV4qYcujcoGNi2tqt19T8LqKTCFDqryUmTzQGlm+wHBpV0nbGe9WubrKdc0QgFYXd66pygUnSZKash9bGp+Ymg+droAAxzsQgLWm2hHsaCoVBD1ZVGcTzOja37xrV3bH/j0CUNfr2aG2llIQ2Es7FbhPtZfKn0wWta10srL+oSS7FzxeEdTcLflRSGZY1R9xguUkStJXL2CXb7rJxOClSZjQycWe1uglSlmvk1/FI+Gjnrdg+zyecsnnEoDAT8IHGrNtX/jZ+MAL58ZUpyIAAtCFdwkQq5KxDO5pvAwm+W5PByE5pqsQGjcg8B4C0LHpkmRyotMJdgUBWORUX/LBSQShTWpl/si/yXEPDv5EAPR+8HWutSMCsCR3I1STKiGjCk5fAZlx3MxEo5KKcwlA5CdzscdTXyyRnGkXYSt4lNMULR1X10YABOB0+7UbUAdsat8RBLAxhxbUBKC1xzARSvu4d6FGhZk+Zoi6pKS71q7NGD/pqXlmLkICMIFjs4aDdGr0XkiAJDJq7rPmbRSpFYEPKDIR9KlCPqREeio8P0QvqLEbARCAFRDmOymbMHRCXyFwb1dszCkENQGYGhJ3mgnaoz6j9iaZx+qUlmbMuqTH34PLBLqUx3eYRQNdcH1zoBOtwdFB10VkmaYnUlLv3KtCg3nZHvUoXs+X6lfv8Y7MImvkB3UBh5UiOxedvJlcW3odUXc1BNjX8QzA2Gy8cVwWnIJLc4wrRPaPPXECIKA6pUhO3v5FyaLtqWo6gZ03E2XMUWAftTfJXGngXzRjBkmvSEl38n4C6Pl2Gucly1Ln7BfaC/5cRaG4MMJtFwGIiYW6a4+1W98yXM96kfGIni17/yNm+UpqMxOMNULL+xHgvQoCMDLEIFkMNnLEukuglEfMSpXBvKovLiIECOf270RsB/4wJAitsk7NRAJu7qadJNcQBzNVuJaN+NF8W5OJ1YWv+3fuZPvfvwEZsnIbCPJbCZeGQX8zPL505RxkVzurO5fsRPM6/sH5fwdpk1Og/HEIgABMmuR9JwDekeak0ujGCNyTABxl3JRw/LvyJRm5CZvatvjm1nH5f1f4SaqPxsEEYA+JkYoOk7LsvLfcOwFY2pwTG/zX4724f/Z4EIAV9tn6DMC+E4CZO5wVi/jCrjEBGGG7JcFNJCoO/CfNvdG+kY+6uZ/nWMhBc8qg1+WN533kNYx035wwZwiA1psDo1ibJEiHfSWweT0joOL2yM5yfXI09Y/aZD+Ur4kACMA17QatVyDgE4AVAtD1YARSQr5qYvn73UgMD0bxbHFMFtxTgbNnhvxXIQAC8CqkMc/bEAABeBv0mBgIAIEPRgAE4IONA9WOQQAE4BgcIQUIAIF7IQACcC97YjUOAiAADiioAgJA4OsRKASAC+KhF1z3HwoCPsAHPgAfgA/ABy7vA3gPwNcTwVsDQBsUf0AACAABIKARYPICAqBBwdW9EAABuJc9sRogAASOQQAE4BgcIeWDEQAB+GDjQDUgAATehgAIwFnQb3zJR3nxxsbxu5bTeS3sYS8/2aXgtsEvJwB7bdexwzYEdow66q13O1TAUCAABM5B4D4EgIOufSCl/8KO6M1+DIp4ILJ5YYk7V5q79A2TwPLaTSGf51vejHYcAaA3ta18bapJPBafsrZzfPE0qT0CYNeYbR+uNbS98LXQ9ssSCWdpf/tWPGOHdcDM2n3wJr/8ApiQAAR+LNeVZaxbAHoDASDwIgQ4Dl39GYAUxEUAzuAtwToM5rnf2s8gwJMeZa6gjzeVHDdNAEbyud3BxFNgqWMcg6AtdeyI+MimiADEbzpbkptNzOHqKJkKrHu24eSviVmD+x4CsMHu4bKooUsAxJqtENIj8CXbFddAAAi8B4HrE4BRwBu180+I0i+GGQM4gbr0YJk6iFObSpJBnyKjFCjZ1EA6SwBKvyJHFzipPNa8xzvf0VVdsox8t1rIjZ7q4698AmCStl3FtP1ooJEVjk0YN772NPU7CEC22Zyt0ryyL5MiqSAIgPUMXAOB2yBwfQIwDJYmuDama4Mgd+nJDQL8DAHIATonVf78+Xn+iKNTDsjBHEl9k3Dsmmgs333R2mpCt93kNetFY4J1q7XJgRco+wSg9xvoySfmf7bW2CO0neknsFOELrCB6O4Xy7zxPHagmtf76VfSRRKCImDBSPit8mmqxwlAQQsFIPCJCPCevfRXABz0Oklu1O4FveVu3g988a+9qSRZgnHP7BSo9elDCci98WFQ9nQbJwO+6xPPCySSok841Np6S/rAtogAkKpprfbZkc7JCdul7f+Y+gogJc02n5r6TQTA2LnnP8JGvH6hUPG/3Kfna7kPf9L82mdUMy6AABD4OASuTwBKEHdIwBKs5RGntEBKfF4wN3UiQPL4ILiqJGkShRWRjo3bRFMCcDDH0x4XiwWlZOYF4ZRgPBwYA+9OjQK/SGpqbWLOKxR7BKDqP5nAQrtUSc+e7RlXbSO2m7TBSgIQ253W1PqY0DQRoOKchohQx4YAJJkcOHp3/6pNr1fOjzIQAALvQ+AWBIDhM0E3BSiHFByBdZAEVJIM+tD0KWD7gXlIAEiuTBYkkJOKldcmtDxvifdHYHEBGe8hAJ2kt9irJFFrkFkC4Nq9NYhn91xXdFAJeyHApBfNYfVrp0ANEAACF0SA9/+lvwJoQG8TX9NlefCvG/yagCgCepDcKaiWu+xOn4d3VGqDfjC+EIR2UaZmBgcxhOczJx8Gg7I2MewKRbJz/dt5BxvYpcr3voZRreML6wvjESlRK2Lo3M3PyLF9QgIwgaPSxwrGNRAAAu9G4EsJwE7YO8myJMmZRCHUSHdkoxMLCrqjPlnoSgKQhwWfitwEfT61WhOAnVrO2HXUZ9T+BgLAXwUZwke4bb75pzWCAOx0NgwHAuci8OUE4KC7JM9GoyAvxyx9//376T85Hd6NSWG5vJIAsA7fcAIg8ZklU3lMvrvv4EQZc2T7UftLCUC6ky/EVSw1P2/ifwWQxnEAcYgD14MAKDRxAQQ+DYELE4CJANQEJnGMz5b4AAKwJN58p8V3YvlCeUuk6xE45MRm8VEKXPaCnLz9I9w2EIBWUFszSvCj9laiU3OQ3UdkI9T1RPyc1aIKCACB4xG4MAE4AowoqR4gOwycVXY6dm2TkFtP8s68o5rQt2p+rdI9CcBRNkhEwj8BWEiGS0hBAI6yAOQAgXchAALw0znO5ROENkFPGauXULntMXi6WgdfIgV+kJ7SZtwp69Scmgh8ziQgYw0394gJgFibu+4TbE+rmMH6rNOJAMVEOls83NzPMhb/dHGrcuLxgSKoBgJA4GUIfDkBeBnOOyeiYHvP4/mdwEwN9wnA1FB0AgJAAAjcFgEQgNuaFgvLCIAAZCTwCQSAABCoCIAAVCxQuikCIAA3NSyWBQSAwC4EQAB2wYfBV0AABOAKVoKOQAAIvBqBQgC4MHigB33qw03AAljAB+AD8AH4wOV94F6vAn41h8J8n44AbVD8AQEgAASAgEaAyQsIgAYFV/dCAATgXvbEaoAAEDgGARCAY3CElA9GAATgg40D1YAAEHgbAiAAB0F/5R/LOQiCjxXzcgLQewnUDEqj1/POyDiqz6rfnzhq0kDODlywPwNMb1EdvZXyxDe93gK35xMEYGRICjrRw5HizXhxgElOGMog2UKOVmfPWC3pm696BIDs5tkmfOti+BY/8dbAEQGwPmVfl7cj0T35p65nXho1eJNf9knSxerHznSSb/bW7rVR3a79OdgZPfllXmF7R9xqH3NkjKvmXxYWvfWxwdG1u9Vkfl47Ml0f4UdHEYAjdPFX+am1bHM8AzBpHi8ALUNHBCDcSx2Z6dfYOsGFEk0O1JNL+MZu5OTeHwdCF78lEIRGs9JMAOoRAE4oOkFzgpB6dH3Czm2uee6Oz5juw0vSxcWBMOrMM/DNZs1Zkd7ae200vtMe78888dZPY3sjhn3MxY/U7ZF/I2h0ebTdg/mOJQ80SdprAUSBFgt2hYA5/xOB99Na2QOfdrQ51IaO/LOrQABWIMxBK3glbxxgBk7YCVogACuM0+nqE4B+4B7+pK+az8gKCUDkC6a+6xNq4uYi+ejs70akeeVpR5OwSBc3OtPYjQSgt76tbfwTC/LntMkmOjHIdTbAba4wtldyem35NyE0GVTDV1ysszsJTvg0piX8gxjnqrObeCQf5ERk7FXqGiVdTZxKs6+cHrpq4NO6c7miPXOOb5UpTiuAAExDWx01GbteZ0f1nWDghL2At7DjLN/9lHeO02v5ro6Em/cXs/fFttOBxwT6kACYfkIpFUS6PiEG2WKZN57HDlHz8k20CWaki4tD6/+Nf7q+SeM6xKGXgLq4pIRGOnjqxgTdIrL2uo/10MdcjFbqsMHu+c67iVldjFu91hMPK2MQH213c834SuKg8Fwre+CbZu56ST5wDJGrMl9T4j2LrwDGYLOjcWRJgcYGmTjAJCdsgmPotD1drutovVWd3UbYR385gFn7NIExC+Bgq+8s01iR1EpAzoPyZxSQTP3KIJykm0QU6pB1SZ+8fuHMlhDwsbpo16Pl1aRvDtaWAnrFsh/g6/xlf/K66/jcI96fucfWT4O7I2a1jzky4ioz/6TdSV5j6+YUJZ6VW2guTrhbEydJmYiPbnJdxhnfZKwLCTD7arCc7br4WA6n+4AOHLtAAHqWoA1mvqvjTabvlI4NMMuckiQMy9dkoD3kj2rrEYA6B2E+geFMgF38I5MKFaMoAZp5dNDqf5dd9a2llGA83ZMfhWQmB/yioBMwSd/STnPu800v6dSVkOyf58+P3lul3SUPiz4l6C/4mZOAvfuT9K4w0JwZ76Tzv/8VLV9W2GN3UpLH10Wx3l6du6BmH7wah2g+Wa/JRW8fuGtcU9nskzWD39cXBGCAfbmzaPpJR0ub6VQHa+ZHxSwC7yEAOUE4WjIJEKcIJgj3HmZT0hY5I79LiUImsCX4j0gl6XVwYNOJVK0mJSRK5E1yWfqRLjLRL3exmqAsfVlGPQkgDEY4aW30ldab9n62ryznMVQn7DtVzvKyjM7nDrvP3eUuuhusk0Y5qXr6Lut2x9n17MVo0cPsHfb1Mr9DaK0afL1XF2ZTl3wgGwTAdYj1lW2AOcCpZu62irOv1/lbRmgCsNMuUXKSYM70kf1t2Ul0tktz3YyZDX6NJF1Bck2QTR0mcGx8s6MTJzWdsJt5mzVqVc+8CgnAjK0bvTs4nLmIUDbZ0kvoZgDbKDidEV09wimaDywmHDmJZZKlfO6FOJMfqLkPXOaJokAAZsEdbPSWAESCabPVQBf1mqq/qNNNre3ATpoA7BQ88AOWPuozam8SxoTOzZh1wY9PunIQFZ9u7p9Qh/8XRRMQA52WxGLnYp1kZbPGqkikv0wO55wAVB3CUqN3gEMo4OyGSQJwhhq8FwanJY0fWUWimLoN58iXuv5D6xjqafV+/zUIwKwNRkE7lGOd016HA+e+b72g0/VWfEabTwDW2EFoNQpYlLBGvjJqbxKGmD8qNmNmgx/hEN3VJRnNnTjrkMbJBNuUHd+k4KoDaV9P1b9ZYwRGWz9P0NuxVEN6VC5Ca5+4Yx75ChOtCTm+SgfWTq7nwBmnRU3ZnPT3bqr6vtXq0PP35AP2K6gig/SsDlKqP70AAjBroVHQDuVY57TX4cCFAHiO3RuDNovAoQTACveuR74yavdkNnXkR4M7p6bdSTajABvqusaPhfJ7AuVIVzGNLTYEIFxXHnkQvlmc9+np4NWpsXv0etdYtYB1F57NGaOx7//+rSQAU9g7e2ghiJrYrlvmu3qDAMwiP3SOSNDGQMni9oyN9Pm++nsSgKPsmJKCH7yWhOHe2Wz1za3jOMo2DwHOotAQgD1EZHbSUT8vpnyCXiO9X9nuEYDp+VcSgPxfEl1/X04HnFOt+ddvTyv+so4gALNQT7FOjx0uQbS5G5MMNrrLnxkrjyZnF/Nd/WICIG3glSO7DPDzArscMuVLG+eW86woR997urGQ5W73TUrGm45LdyQDSwDs9Qqojuvq+MlH6HXcCvdL2mHz/D8eYh/21Yv2gk+Sr/sOAFo9CIDvA6i9EQI+AbjRAi+3lHQ3FQXUVyzn7/e1BGt2TZ+q16z+39aPyYJ7KnANJEAArmEnaLkDARCAHeBhKBAAArdFAATgtqbFwjICIAAZCXwCASAABCoCIAAVC5RuigAIwE0Ni2UBASCwC4FCALjQfVDNe0gKdcANPgAfgA/AB+ADV/WB/wMigBPjNgpYfgAAAABJRU5ErkJggg==)"
      ]
    },
    {
      "cell_type": "code",
      "metadata": {
        "id": "RH8afuGB5XbD",
        "colab_type": "code",
        "colab": {
          "base_uri": "https://localhost:8080/",
          "height": 419
        },
        "outputId": "e8e4058f-5111-47ce-f83c-eeddfb377960"
      },
      "source": [
        "trend = pd.read_csv('[Track2_데이터1] trend_w_demo.csv', encoding='CP949')\n",
        "trend"
      ],
      "execution_count": 39,
      "outputs": [
        {
          "output_type": "execute_result",
          "data": {
            "text/html": [
              "<div>\n",
              "<style scoped>\n",
              "    .dataframe tbody tr th:only-of-type {\n",
              "        vertical-align: middle;\n",
              "    }\n",
              "\n",
              "    .dataframe tbody tr th {\n",
              "        vertical-align: top;\n",
              "    }\n",
              "\n",
              "    .dataframe thead th {\n",
              "        text-align: right;\n",
              "    }\n",
              "</style>\n",
              "<table border=\"1\" class=\"dataframe\">\n",
              "  <thead>\n",
              "    <tr style=\"text-align: right;\">\n",
              "      <th></th>\n",
              "      <th>YM</th>\n",
              "      <th>Category</th>\n",
              "      <th>성별구분</th>\n",
              "      <th>연령대</th>\n",
              "      <th>기혼스코어</th>\n",
              "      <th>유아자녀스코어</th>\n",
              "      <th>초등학생자녀스코어</th>\n",
              "      <th>중고생자녀스코어</th>\n",
              "      <th>대학생자녀스코어</th>\n",
              "      <th>전업주부스코어</th>\n",
              "    </tr>\n",
              "  </thead>\n",
              "  <tbody>\n",
              "    <tr>\n",
              "      <th>0</th>\n",
              "      <td>202005</td>\n",
              "      <td>할인점</td>\n",
              "      <td>0</td>\n",
              "      <td>F</td>\n",
              "      <td>high</td>\n",
              "      <td>low</td>\n",
              "      <td>high</td>\n",
              "      <td>mid</td>\n",
              "      <td>low</td>\n",
              "      <td>low</td>\n",
              "    </tr>\n",
              "    <tr>\n",
              "      <th>1</th>\n",
              "      <td>202005</td>\n",
              "      <td>취미</td>\n",
              "      <td>0</td>\n",
              "      <td>B</td>\n",
              "      <td>high</td>\n",
              "      <td>low</td>\n",
              "      <td>mid</td>\n",
              "      <td>mid</td>\n",
              "      <td>low</td>\n",
              "      <td>low</td>\n",
              "    </tr>\n",
              "    <tr>\n",
              "      <th>2</th>\n",
              "      <td>202005</td>\n",
              "      <td>오픈마켓/소셜</td>\n",
              "      <td>1</td>\n",
              "      <td>D</td>\n",
              "      <td>mid</td>\n",
              "      <td>mid</td>\n",
              "      <td>mid</td>\n",
              "      <td>mid</td>\n",
              "      <td>low</td>\n",
              "      <td>mid</td>\n",
              "    </tr>\n",
              "    <tr>\n",
              "      <th>3</th>\n",
              "      <td>202005</td>\n",
              "      <td>뷰티</td>\n",
              "      <td>0</td>\n",
              "      <td>D</td>\n",
              "      <td>mid</td>\n",
              "      <td>mid</td>\n",
              "      <td>mid</td>\n",
              "      <td>mid</td>\n",
              "      <td>low</td>\n",
              "      <td>low</td>\n",
              "    </tr>\n",
              "    <tr>\n",
              "      <th>4</th>\n",
              "      <td>202005</td>\n",
              "      <td>오픈마켓/소셜</td>\n",
              "      <td>0</td>\n",
              "      <td>G</td>\n",
              "      <td>high</td>\n",
              "      <td>low</td>\n",
              "      <td>mid</td>\n",
              "      <td>mid</td>\n",
              "      <td>mid</td>\n",
              "      <td>low</td>\n",
              "    </tr>\n",
              "    <tr>\n",
              "      <th>...</th>\n",
              "      <td>...</td>\n",
              "      <td>...</td>\n",
              "      <td>...</td>\n",
              "      <td>...</td>\n",
              "      <td>...</td>\n",
              "      <td>...</td>\n",
              "      <td>...</td>\n",
              "      <td>...</td>\n",
              "      <td>...</td>\n",
              "      <td>...</td>\n",
              "    </tr>\n",
              "    <tr>\n",
              "      <th>452033</th>\n",
              "      <td>201904</td>\n",
              "      <td>전문몰</td>\n",
              "      <td>0</td>\n",
              "      <td>E</td>\n",
              "      <td>low</td>\n",
              "      <td>mid</td>\n",
              "      <td>low</td>\n",
              "      <td>low</td>\n",
              "      <td>low</td>\n",
              "      <td>low</td>\n",
              "    </tr>\n",
              "    <tr>\n",
              "      <th>452034</th>\n",
              "      <td>201904</td>\n",
              "      <td>할인점</td>\n",
              "      <td>0</td>\n",
              "      <td>H</td>\n",
              "      <td>high</td>\n",
              "      <td>low</td>\n",
              "      <td>low</td>\n",
              "      <td>low</td>\n",
              "      <td>low</td>\n",
              "      <td>low</td>\n",
              "    </tr>\n",
              "    <tr>\n",
              "      <th>452035</th>\n",
              "      <td>201904</td>\n",
              "      <td>할인점</td>\n",
              "      <td>1</td>\n",
              "      <td>H</td>\n",
              "      <td>high</td>\n",
              "      <td>low</td>\n",
              "      <td>low</td>\n",
              "      <td>low</td>\n",
              "      <td>low</td>\n",
              "      <td>low</td>\n",
              "    </tr>\n",
              "    <tr>\n",
              "      <th>452036</th>\n",
              "      <td>201904</td>\n",
              "      <td>할인점</td>\n",
              "      <td>0</td>\n",
              "      <td>H</td>\n",
              "      <td>high</td>\n",
              "      <td>low</td>\n",
              "      <td>low</td>\n",
              "      <td>low</td>\n",
              "      <td>low</td>\n",
              "      <td>low</td>\n",
              "    </tr>\n",
              "    <tr>\n",
              "      <th>452037</th>\n",
              "      <td>201904</td>\n",
              "      <td>할인점</td>\n",
              "      <td>1</td>\n",
              "      <td>B</td>\n",
              "      <td>high</td>\n",
              "      <td>low</td>\n",
              "      <td>mid</td>\n",
              "      <td>mid</td>\n",
              "      <td>low</td>\n",
              "      <td>mid</td>\n",
              "    </tr>\n",
              "  </tbody>\n",
              "</table>\n",
              "<p>452038 rows × 10 columns</p>\n",
              "</div>"
            ],
            "text/plain": [
              "            YM Category  성별구분 연령대  ... 초등학생자녀스코어 중고생자녀스코어 대학생자녀스코어 전업주부스코어\n",
              "0       202005      할인점     0   F  ...      high      mid      low     low\n",
              "1       202005       취미     0   B  ...       mid      mid      low     low\n",
              "2       202005  오픈마켓/소셜     1   D  ...       mid      mid      low     mid\n",
              "3       202005       뷰티     0   D  ...       mid      mid      low     low\n",
              "4       202005  오픈마켓/소셜     0   G  ...       mid      mid      mid     low\n",
              "...        ...      ...   ...  ..  ...       ...      ...      ...     ...\n",
              "452033  201904      전문몰     0   E  ...       low      low      low     low\n",
              "452034  201904      할인점     0   H  ...       low      low      low     low\n",
              "452035  201904      할인점     1   H  ...       low      low      low     low\n",
              "452036  201904      할인점     0   H  ...       low      low      low     low\n",
              "452037  201904      할인점     1   B  ...       mid      mid      low     mid\n",
              "\n",
              "[452038 rows x 10 columns]"
            ]
          },
          "metadata": {
            "tags": []
          },
          "execution_count": 39
        }
      ]
    },
    {
      "cell_type": "code",
      "metadata": {
        "id": "GlLDkAKrwsJm",
        "colab_type": "code",
        "colab": {
          "base_uri": "https://localhost:8080/",
          "height": 419
        },
        "outputId": "aad769c0-11a1-4a28-8a9f-b6fefcadf26a"
      },
      "source": [
        "s201905 = trend[trend.YM==201905]\n",
        "s201905"
      ],
      "execution_count": 40,
      "outputs": [
        {
          "output_type": "execute_result",
          "data": {
            "text/html": [
              "<div>\n",
              "<style scoped>\n",
              "    .dataframe tbody tr th:only-of-type {\n",
              "        vertical-align: middle;\n",
              "    }\n",
              "\n",
              "    .dataframe tbody tr th {\n",
              "        vertical-align: top;\n",
              "    }\n",
              "\n",
              "    .dataframe thead th {\n",
              "        text-align: right;\n",
              "    }\n",
              "</style>\n",
              "<table border=\"1\" class=\"dataframe\">\n",
              "  <thead>\n",
              "    <tr style=\"text-align: right;\">\n",
              "      <th></th>\n",
              "      <th>YM</th>\n",
              "      <th>Category</th>\n",
              "      <th>성별구분</th>\n",
              "      <th>연령대</th>\n",
              "      <th>기혼스코어</th>\n",
              "      <th>유아자녀스코어</th>\n",
              "      <th>초등학생자녀스코어</th>\n",
              "      <th>중고생자녀스코어</th>\n",
              "      <th>대학생자녀스코어</th>\n",
              "      <th>전업주부스코어</th>\n",
              "    </tr>\n",
              "  </thead>\n",
              "  <tbody>\n",
              "    <tr>\n",
              "      <th>210468</th>\n",
              "      <td>201905</td>\n",
              "      <td>전문몰</td>\n",
              "      <td>1</td>\n",
              "      <td>E</td>\n",
              "      <td>low</td>\n",
              "      <td>low</td>\n",
              "      <td>low</td>\n",
              "      <td>low</td>\n",
              "      <td>low</td>\n",
              "      <td>mid</td>\n",
              "    </tr>\n",
              "    <tr>\n",
              "      <th>210469</th>\n",
              "      <td>201905</td>\n",
              "      <td>전문몰</td>\n",
              "      <td>1</td>\n",
              "      <td>E</td>\n",
              "      <td>mid</td>\n",
              "      <td>mid</td>\n",
              "      <td>low</td>\n",
              "      <td>low</td>\n",
              "      <td>low</td>\n",
              "      <td>mid</td>\n",
              "    </tr>\n",
              "    <tr>\n",
              "      <th>210470</th>\n",
              "      <td>201905</td>\n",
              "      <td>할인점</td>\n",
              "      <td>1</td>\n",
              "      <td>F</td>\n",
              "      <td>high</td>\n",
              "      <td>low</td>\n",
              "      <td>mid</td>\n",
              "      <td>mid</td>\n",
              "      <td>mid</td>\n",
              "      <td>mid</td>\n",
              "    </tr>\n",
              "    <tr>\n",
              "      <th>210471</th>\n",
              "      <td>201905</td>\n",
              "      <td>전문몰</td>\n",
              "      <td>0</td>\n",
              "      <td>G</td>\n",
              "      <td>high</td>\n",
              "      <td>low</td>\n",
              "      <td>mid</td>\n",
              "      <td>mid</td>\n",
              "      <td>mid</td>\n",
              "      <td>low</td>\n",
              "    </tr>\n",
              "    <tr>\n",
              "      <th>210472</th>\n",
              "      <td>201905</td>\n",
              "      <td>전문몰</td>\n",
              "      <td>1</td>\n",
              "      <td>H</td>\n",
              "      <td>high</td>\n",
              "      <td>low</td>\n",
              "      <td>low</td>\n",
              "      <td>low</td>\n",
              "      <td>mid</td>\n",
              "      <td>mid</td>\n",
              "    </tr>\n",
              "    <tr>\n",
              "      <th>...</th>\n",
              "      <td>...</td>\n",
              "      <td>...</td>\n",
              "      <td>...</td>\n",
              "      <td>...</td>\n",
              "      <td>...</td>\n",
              "      <td>...</td>\n",
              "      <td>...</td>\n",
              "      <td>...</td>\n",
              "      <td>...</td>\n",
              "      <td>...</td>\n",
              "    </tr>\n",
              "    <tr>\n",
              "      <th>331914</th>\n",
              "      <td>201905</td>\n",
              "      <td>디저트</td>\n",
              "      <td>1</td>\n",
              "      <td>D</td>\n",
              "      <td>high</td>\n",
              "      <td>mid</td>\n",
              "      <td>low</td>\n",
              "      <td>mid</td>\n",
              "      <td>low</td>\n",
              "      <td>mid</td>\n",
              "    </tr>\n",
              "    <tr>\n",
              "      <th>331915</th>\n",
              "      <td>201905</td>\n",
              "      <td>할인점</td>\n",
              "      <td>0</td>\n",
              "      <td>B</td>\n",
              "      <td>high</td>\n",
              "      <td>low</td>\n",
              "      <td>high</td>\n",
              "      <td>mid</td>\n",
              "      <td>low</td>\n",
              "      <td>low</td>\n",
              "    </tr>\n",
              "    <tr>\n",
              "      <th>331916</th>\n",
              "      <td>201905</td>\n",
              "      <td>호텔/숙박</td>\n",
              "      <td>0</td>\n",
              "      <td>F</td>\n",
              "      <td>high</td>\n",
              "      <td>low</td>\n",
              "      <td>mid</td>\n",
              "      <td>mid</td>\n",
              "      <td>mid</td>\n",
              "      <td>low</td>\n",
              "    </tr>\n",
              "    <tr>\n",
              "      <th>331917</th>\n",
              "      <td>201905</td>\n",
              "      <td>면세점</td>\n",
              "      <td>1</td>\n",
              "      <td>B</td>\n",
              "      <td>high</td>\n",
              "      <td>low</td>\n",
              "      <td>high</td>\n",
              "      <td>mid</td>\n",
              "      <td>mid</td>\n",
              "      <td>mid</td>\n",
              "    </tr>\n",
              "    <tr>\n",
              "      <th>331918</th>\n",
              "      <td>201905</td>\n",
              "      <td>취미</td>\n",
              "      <td>1</td>\n",
              "      <td>E</td>\n",
              "      <td>low</td>\n",
              "      <td>low</td>\n",
              "      <td>low</td>\n",
              "      <td>low</td>\n",
              "      <td>low</td>\n",
              "      <td>low</td>\n",
              "    </tr>\n",
              "  </tbody>\n",
              "</table>\n",
              "<p>121451 rows × 10 columns</p>\n",
              "</div>"
            ],
            "text/plain": [
              "            YM Category  성별구분 연령대  ... 초등학생자녀스코어 중고생자녀스코어 대학생자녀스코어 전업주부스코어\n",
              "210468  201905      전문몰     1   E  ...       low      low      low     mid\n",
              "210469  201905      전문몰     1   E  ...       low      low      low     mid\n",
              "210470  201905      할인점     1   F  ...       mid      mid      mid     mid\n",
              "210471  201905      전문몰     0   G  ...       mid      mid      mid     low\n",
              "210472  201905      전문몰     1   H  ...       low      low      mid     mid\n",
              "...        ...      ...   ...  ..  ...       ...      ...      ...     ...\n",
              "331914  201905      디저트     1   D  ...       low      mid      low     mid\n",
              "331915  201905      할인점     0   B  ...      high      mid      low     low\n",
              "331916  201905    호텔/숙박     0   F  ...       mid      mid      mid     low\n",
              "331917  201905      면세점     1   B  ...      high      mid      mid     mid\n",
              "331918  201905       취미     1   E  ...       low      low      low     low\n",
              "\n",
              "[121451 rows x 10 columns]"
            ]
          },
          "metadata": {
            "tags": []
          },
          "execution_count": 40
        }
      ]
    },
    {
      "cell_type": "code",
      "metadata": {
        "id": "ny25TYlkYesS",
        "colab_type": "code",
        "colab": {
          "base_uri": "https://localhost:8080/",
          "height": 179
        },
        "outputId": "60d6e5fa-9021-4871-bfc7-073bdbf22a58"
      },
      "source": [
        "s201905.연령대.value_counts()"
      ],
      "execution_count": 41,
      "outputs": [
        {
          "output_type": "execute_result",
          "data": {
            "text/plain": [
              "D    20879\n",
              "A    18997\n",
              "F    18381\n",
              "E    15826\n",
              "C    15024\n",
              "G    13358\n",
              "H     9637\n",
              "B     9349\n",
              "Name: 연령대, dtype: int64"
            ]
          },
          "metadata": {
            "tags": []
          },
          "execution_count": 41
        }
      ]
    },
    {
      "cell_type": "markdown",
      "metadata": {
        "id": "kuwPg9Ax-Myt",
        "colab_type": "text"
      },
      "source": [
        "- 기혼스코어 low인 사람들"
      ]
    },
    {
      "cell_type": "code",
      "metadata": {
        "id": "hfYFKr7PYfF6",
        "colab_type": "code",
        "colab": {
          "base_uri": "https://localhost:8080/",
          "height": 71
        },
        "outputId": "ddc95621-1723-4d6f-b538-86d6a39f5662"
      },
      "source": [
        "unmarried = s201905[s201905.기혼스코어 =='low']\n",
        "unmarried.연령대.value_counts()\n",
        "# E가 많다"
      ],
      "execution_count": 42,
      "outputs": [
        {
          "output_type": "execute_result",
          "data": {
            "text/plain": [
              "E    9164\n",
              "C     120\n",
              "Name: 연령대, dtype: int64"
            ]
          },
          "metadata": {
            "tags": []
          },
          "execution_count": 42
        }
      ]
    },
    {
      "cell_type": "code",
      "metadata": {
        "id": "V9jlL4j42aXD",
        "colab_type": "code",
        "colab": {
          "base_uri": "https://localhost:8080/",
          "height": 215
        },
        "outputId": "1c36ae10-f3ec-48da-fd07-919234b1e728"
      },
      "source": [
        "unmarried.Category.value_counts()\n",
        "# 전문몰 - 온라인 쇼핑몰(서적, 교육, 스포츠 특화 등)  2481\n",
        "# 디저트 - 커피 카페, 제과점\n",
        "# 오픈마켓/소셜 - 온라인 쇼핑몰"
      ],
      "execution_count": 43,
      "outputs": [
        {
          "output_type": "execute_result",
          "data": {
            "text/plain": [
              "전문몰        2481\n",
              "디저트        1945\n",
              "오픈마켓/소셜    1590\n",
              "할인점         917\n",
              "뷰티          862\n",
              "취미          759\n",
              "호텔/숙박       295\n",
              "종합몰         215\n",
              "항공/여행사      162\n",
              "면세점          58\n",
              "Name: Category, dtype: int64"
            ]
          },
          "metadata": {
            "tags": []
          },
          "execution_count": 43
        }
      ]
    },
    {
      "cell_type": "code",
      "metadata": {
        "id": "MDcG2pv4YfLO",
        "colab_type": "code",
        "colab": {
          "base_uri": "https://localhost:8080/",
          "height": 71
        },
        "outputId": "abd93be5-1e93-4851-efa9-a99d58b07cfc"
      },
      "source": [
        "unmarried.성별구분.value_counts()"
      ],
      "execution_count": 44,
      "outputs": [
        {
          "output_type": "execute_result",
          "data": {
            "text/plain": [
              "1    5457\n",
              "0    3827\n",
              "Name: 성별구분, dtype: int64"
            ]
          },
          "metadata": {
            "tags": []
          },
          "execution_count": 44
        }
      ]
    },
    {
      "cell_type": "code",
      "metadata": {
        "id": "BmA2xq5pYfS2",
        "colab_type": "code",
        "colab": {
          "base_uri": "https://localhost:8080/",
          "height": 89
        },
        "outputId": "598ca9f1-64d0-4d01-b141-54e2f1db6826"
      },
      "source": [
        "unmarried.유아자녀스코어.value_counts()  # 유아자녀 60명  # 자녀도 없고 기혼도 아닌 사람 5509명"
      ],
      "execution_count": 45,
      "outputs": [
        {
          "output_type": "execute_result",
          "data": {
            "text/plain": [
              "low     5509\n",
              "mid     3715\n",
              "high      60\n",
              "Name: 유아자녀스코어, dtype: int64"
            ]
          },
          "metadata": {
            "tags": []
          },
          "execution_count": 45
        }
      ]
    },
    {
      "cell_type": "code",
      "metadata": {
        "id": "g9AStFeLYfay",
        "colab_type": "code",
        "colab": {
          "base_uri": "https://localhost:8080/",
          "height": 89
        },
        "outputId": "58b5af5a-ca60-493d-dffb-69d479a6a1c9"
      },
      "source": [
        "unmarried.초등학생자녀스코어.value_counts()  # 초등학생 자녀 109명 오차범위 11"
      ],
      "execution_count": 46,
      "outputs": [
        {
          "output_type": "execute_result",
          "data": {
            "text/plain": [
              "low     9164\n",
              "high     109\n",
              "mid       11\n",
              "Name: 초등학생자녀스코어, dtype: int64"
            ]
          },
          "metadata": {
            "tags": []
          },
          "execution_count": 46
        }
      ]
    },
    {
      "cell_type": "code",
      "metadata": {
        "id": "vDB7pcRQYfYA",
        "colab_type": "code",
        "colab": {
          "base_uri": "https://localhost:8080/",
          "height": 53
        },
        "outputId": "bfdc789e-7318-4189-86f7-5f6b25552e69"
      },
      "source": [
        "unmarried.중고생자녀스코어.value_counts()  # 중고생자녀 X"
      ],
      "execution_count": 47,
      "outputs": [
        {
          "output_type": "execute_result",
          "data": {
            "text/plain": [
              "low    9284\n",
              "Name: 중고생자녀스코어, dtype: int64"
            ]
          },
          "metadata": {
            "tags": []
          },
          "execution_count": 47
        }
      ]
    },
    {
      "cell_type": "code",
      "metadata": {
        "id": "_GI4ak5S0SsG",
        "colab_type": "code",
        "colab": {
          "base_uri": "https://localhost:8080/",
          "height": 53
        },
        "outputId": "e0d231f0-ead4-4070-bf56-09d2c4faba9a"
      },
      "source": [
        "unmarried.대학생자녀스코어.value_counts()  # 대학생자녀X"
      ],
      "execution_count": 48,
      "outputs": [
        {
          "output_type": "execute_result",
          "data": {
            "text/plain": [
              "low    9284\n",
              "Name: 대학생자녀스코어, dtype: int64"
            ]
          },
          "metadata": {
            "tags": []
          },
          "execution_count": 48
        }
      ]
    },
    {
      "cell_type": "code",
      "metadata": {
        "id": "nNQIJiAKYfQD",
        "colab_type": "code",
        "colab": {
          "base_uri": "https://localhost:8080/",
          "height": 89
        },
        "outputId": "c200f2cf-b0f2-4dd6-c083-d25d0229a403"
      },
      "source": [
        "unmarried.전업주부스코어.value_counts()   # 전업주부가 아닌 사람 4376명, 전업주부인 사람 60"
      ],
      "execution_count": 49,
      "outputs": [
        {
          "output_type": "execute_result",
          "data": {
            "text/plain": [
              "mid     4848\n",
              "low     4376\n",
              "high      60\n",
              "Name: 전업주부스코어, dtype: int64"
            ]
          },
          "metadata": {
            "tags": []
          },
          "execution_count": 49
        }
      ]
    },
    {
      "cell_type": "markdown",
      "metadata": {
        "id": "DlsGvxoh-Rn2",
        "colab_type": "text"
      },
      "source": [
        "- 기혼스코어 mid 인 사람들\n",
        "- 기혼인지 미혼인지 애매\n",
        "- 자녀스코어로 판단"
      ]
    },
    {
      "cell_type": "code",
      "metadata": {
        "id": "k56hTBv52BD9",
        "colab_type": "code",
        "colab": {
          "base_uri": "https://localhost:8080/",
          "height": 419
        },
        "outputId": "a052444d-676a-421f-8591-f9e1a4fc7aa8"
      },
      "source": [
        "notsure = s201905[s201905.기혼스코어 =='mid']\n",
        "notsure"
      ],
      "execution_count": 50,
      "outputs": [
        {
          "output_type": "execute_result",
          "data": {
            "text/html": [
              "<div>\n",
              "<style scoped>\n",
              "    .dataframe tbody tr th:only-of-type {\n",
              "        vertical-align: middle;\n",
              "    }\n",
              "\n",
              "    .dataframe tbody tr th {\n",
              "        vertical-align: top;\n",
              "    }\n",
              "\n",
              "    .dataframe thead th {\n",
              "        text-align: right;\n",
              "    }\n",
              "</style>\n",
              "<table border=\"1\" class=\"dataframe\">\n",
              "  <thead>\n",
              "    <tr style=\"text-align: right;\">\n",
              "      <th></th>\n",
              "      <th>YM</th>\n",
              "      <th>Category</th>\n",
              "      <th>성별구분</th>\n",
              "      <th>연령대</th>\n",
              "      <th>기혼스코어</th>\n",
              "      <th>유아자녀스코어</th>\n",
              "      <th>초등학생자녀스코어</th>\n",
              "      <th>중고생자녀스코어</th>\n",
              "      <th>대학생자녀스코어</th>\n",
              "      <th>전업주부스코어</th>\n",
              "    </tr>\n",
              "  </thead>\n",
              "  <tbody>\n",
              "    <tr>\n",
              "      <th>210469</th>\n",
              "      <td>201905</td>\n",
              "      <td>전문몰</td>\n",
              "      <td>1</td>\n",
              "      <td>E</td>\n",
              "      <td>mid</td>\n",
              "      <td>mid</td>\n",
              "      <td>low</td>\n",
              "      <td>low</td>\n",
              "      <td>low</td>\n",
              "      <td>mid</td>\n",
              "    </tr>\n",
              "    <tr>\n",
              "      <th>210477</th>\n",
              "      <td>201905</td>\n",
              "      <td>디저트</td>\n",
              "      <td>1</td>\n",
              "      <td>D</td>\n",
              "      <td>mid</td>\n",
              "      <td>high</td>\n",
              "      <td>mid</td>\n",
              "      <td>mid</td>\n",
              "      <td>low</td>\n",
              "      <td>mid</td>\n",
              "    </tr>\n",
              "    <tr>\n",
              "      <th>210479</th>\n",
              "      <td>201905</td>\n",
              "      <td>오픈마켓/소셜</td>\n",
              "      <td>0</td>\n",
              "      <td>C</td>\n",
              "      <td>mid</td>\n",
              "      <td>mid</td>\n",
              "      <td>high</td>\n",
              "      <td>low</td>\n",
              "      <td>low</td>\n",
              "      <td>low</td>\n",
              "    </tr>\n",
              "    <tr>\n",
              "      <th>210482</th>\n",
              "      <td>201905</td>\n",
              "      <td>전문몰</td>\n",
              "      <td>1</td>\n",
              "      <td>E</td>\n",
              "      <td>mid</td>\n",
              "      <td>high</td>\n",
              "      <td>low</td>\n",
              "      <td>low</td>\n",
              "      <td>low</td>\n",
              "      <td>mid</td>\n",
              "    </tr>\n",
              "    <tr>\n",
              "      <th>210483</th>\n",
              "      <td>201905</td>\n",
              "      <td>전문몰</td>\n",
              "      <td>0</td>\n",
              "      <td>C</td>\n",
              "      <td>mid</td>\n",
              "      <td>high</td>\n",
              "      <td>mid</td>\n",
              "      <td>low</td>\n",
              "      <td>low</td>\n",
              "      <td>low</td>\n",
              "    </tr>\n",
              "    <tr>\n",
              "      <th>...</th>\n",
              "      <td>...</td>\n",
              "      <td>...</td>\n",
              "      <td>...</td>\n",
              "      <td>...</td>\n",
              "      <td>...</td>\n",
              "      <td>...</td>\n",
              "      <td>...</td>\n",
              "      <td>...</td>\n",
              "      <td>...</td>\n",
              "      <td>...</td>\n",
              "    </tr>\n",
              "    <tr>\n",
              "      <th>331892</th>\n",
              "      <td>201905</td>\n",
              "      <td>디저트</td>\n",
              "      <td>1</td>\n",
              "      <td>D</td>\n",
              "      <td>mid</td>\n",
              "      <td>mid</td>\n",
              "      <td>low</td>\n",
              "      <td>mid</td>\n",
              "      <td>low</td>\n",
              "      <td>mid</td>\n",
              "    </tr>\n",
              "    <tr>\n",
              "      <th>331901</th>\n",
              "      <td>201905</td>\n",
              "      <td>면세점</td>\n",
              "      <td>1</td>\n",
              "      <td>C</td>\n",
              "      <td>mid</td>\n",
              "      <td>mid</td>\n",
              "      <td>mid</td>\n",
              "      <td>low</td>\n",
              "      <td>low</td>\n",
              "      <td>mid</td>\n",
              "    </tr>\n",
              "    <tr>\n",
              "      <th>331902</th>\n",
              "      <td>201905</td>\n",
              "      <td>오픈마켓/소셜</td>\n",
              "      <td>0</td>\n",
              "      <td>C</td>\n",
              "      <td>mid</td>\n",
              "      <td>mid</td>\n",
              "      <td>high</td>\n",
              "      <td>low</td>\n",
              "      <td>low</td>\n",
              "      <td>low</td>\n",
              "    </tr>\n",
              "    <tr>\n",
              "      <th>331903</th>\n",
              "      <td>201905</td>\n",
              "      <td>취미</td>\n",
              "      <td>0</td>\n",
              "      <td>E</td>\n",
              "      <td>mid</td>\n",
              "      <td>mid</td>\n",
              "      <td>low</td>\n",
              "      <td>low</td>\n",
              "      <td>low</td>\n",
              "      <td>low</td>\n",
              "    </tr>\n",
              "    <tr>\n",
              "      <th>331908</th>\n",
              "      <td>201905</td>\n",
              "      <td>디저트</td>\n",
              "      <td>0</td>\n",
              "      <td>D</td>\n",
              "      <td>mid</td>\n",
              "      <td>mid</td>\n",
              "      <td>mid</td>\n",
              "      <td>mid</td>\n",
              "      <td>low</td>\n",
              "      <td>low</td>\n",
              "    </tr>\n",
              "  </tbody>\n",
              "</table>\n",
              "<p>28622 rows × 10 columns</p>\n",
              "</div>"
            ],
            "text/plain": [
              "            YM Category  성별구분 연령대  ... 초등학생자녀스코어 중고생자녀스코어 대학생자녀스코어 전업주부스코어\n",
              "210469  201905      전문몰     1   E  ...       low      low      low     mid\n",
              "210477  201905      디저트     1   D  ...       mid      mid      low     mid\n",
              "210479  201905  오픈마켓/소셜     0   C  ...      high      low      low     low\n",
              "210482  201905      전문몰     1   E  ...       low      low      low     mid\n",
              "210483  201905      전문몰     0   C  ...       mid      low      low     low\n",
              "...        ...      ...   ...  ..  ...       ...      ...      ...     ...\n",
              "331892  201905      디저트     1   D  ...       low      mid      low     mid\n",
              "331901  201905      면세점     1   C  ...       mid      low      low     mid\n",
              "331902  201905  오픈마켓/소셜     0   C  ...      high      low      low     low\n",
              "331903  201905       취미     0   E  ...       low      low      low     low\n",
              "331908  201905      디저트     0   D  ...       mid      mid      low     low\n",
              "\n",
              "[28622 rows x 10 columns]"
            ]
          },
          "metadata": {
            "tags": []
          },
          "execution_count": 50
        }
      ]
    },
    {
      "cell_type": "code",
      "metadata": {
        "id": "bDxUO3QQ28Xc",
        "colab_type": "code",
        "colab": {
          "base_uri": "https://localhost:8080/",
          "height": 215
        },
        "outputId": "f0a1796e-1ca7-4cc5-8a88-7d982d4e55d4"
      },
      "source": [
        "notsure.Category.value_counts()\n",
        "# 전문몰 - 온라인 쇼핑몰(서적, 교육, 스포츠 특화 등)  2481\n",
        "# 디저트 - 커피 카페, 제과점\n",
        "# 오픈마켓/소셜 - 온라인 쇼핑몰"
      ],
      "execution_count": 51,
      "outputs": [
        {
          "output_type": "execute_result",
          "data": {
            "text/plain": [
              "전문몰        7801\n",
              "오픈마켓/소셜    5657\n",
              "디저트        5520\n",
              "할인점        4419\n",
              "뷰티         1485\n",
              "종합몰        1191\n",
              "취미         1187\n",
              "호텔/숙박       575\n",
              "항공/여행사      570\n",
              "면세점         217\n",
              "Name: Category, dtype: int64"
            ]
          },
          "metadata": {
            "tags": []
          },
          "execution_count": 51
        }
      ]
    },
    {
      "cell_type": "code",
      "metadata": {
        "id": "_oxf90LS2BY9",
        "colab_type": "code",
        "colab": {
          "base_uri": "https://localhost:8080/",
          "height": 89
        },
        "outputId": "447c66ac-a83d-44dd-a0d3-acdb73437a97"
      },
      "source": [
        "notsure.연령대.value_counts()   \n",
        "# D가 추가되었다.\n",
        "# C도 늘었고 120->12152\n",
        "# E는 줄었다."
      ],
      "execution_count": 52,
      "outputs": [
        {
          "output_type": "execute_result",
          "data": {
            "text/plain": [
              "C    12152\n",
              "D    10529\n",
              "E     5941\n",
              "Name: 연령대, dtype: int64"
            ]
          },
          "metadata": {
            "tags": []
          },
          "execution_count": 52
        }
      ]
    },
    {
      "cell_type": "code",
      "metadata": {
        "id": "4p0o2mX52BeE",
        "colab_type": "code",
        "colab": {
          "base_uri": "https://localhost:8080/",
          "height": 71
        },
        "outputId": "ee65e3c6-daf6-4326-a949-1cffe78c0656"
      },
      "source": [
        "notsure.성별구분.value_counts()"
      ],
      "execution_count": 53,
      "outputs": [
        {
          "output_type": "execute_result",
          "data": {
            "text/plain": [
              "1    15449\n",
              "0    13173\n",
              "Name: 성별구분, dtype: int64"
            ]
          },
          "metadata": {
            "tags": []
          },
          "execution_count": 53
        }
      ]
    },
    {
      "cell_type": "code",
      "metadata": {
        "id": "DP4Wu14l2Bh6",
        "colab_type": "code",
        "colab": {
          "base_uri": "https://localhost:8080/",
          "height": 89
        },
        "outputId": "ab7c37dc-8efd-460f-a6d4-fe2ed4bbdb77"
      },
      "source": [
        "notsure.유아자녀스코어.value_counts()"
      ],
      "execution_count": 54,
      "outputs": [
        {
          "output_type": "execute_result",
          "data": {
            "text/plain": [
              "mid     23715\n",
              "high     3683\n",
              "low      1224\n",
              "Name: 유아자녀스코어, dtype: int64"
            ]
          },
          "metadata": {
            "tags": []
          },
          "execution_count": 54
        }
      ]
    },
    {
      "cell_type": "code",
      "metadata": {
        "id": "Wg93PmyH2Bbu",
        "colab_type": "code",
        "colab": {
          "base_uri": "https://localhost:8080/",
          "height": 89
        },
        "outputId": "a3be57e0-9d20-4a29-f8f0-ab8267e52851"
      },
      "source": [
        "notsure.초등학생자녀스코어.value_counts()"
      ],
      "execution_count": 55,
      "outputs": [
        {
          "output_type": "execute_result",
          "data": {
            "text/plain": [
              "mid     12744\n",
              "low      9988\n",
              "high     5890\n",
              "Name: 초등학생자녀스코어, dtype: int64"
            ]
          },
          "metadata": {
            "tags": []
          },
          "execution_count": 55
        }
      ]
    },
    {
      "cell_type": "code",
      "metadata": {
        "id": "si20LTF52BUr",
        "colab_type": "code",
        "colab": {
          "base_uri": "https://localhost:8080/",
          "height": 89
        },
        "outputId": "f2f05c55-f653-4439-c738-e9ee459f0478"
      },
      "source": [
        "notsure.중고생자녀스코어.value_counts()"
      ],
      "execution_count": 56,
      "outputs": [
        {
          "output_type": "execute_result",
          "data": {
            "text/plain": [
              "low     18112\n",
              "mid     10412\n",
              "high       98\n",
              "Name: 중고생자녀스코어, dtype: int64"
            ]
          },
          "metadata": {
            "tags": []
          },
          "execution_count": 56
        }
      ]
    },
    {
      "cell_type": "code",
      "metadata": {
        "id": "aIkCjjGkYfIr",
        "colab_type": "code",
        "colab": {
          "base_uri": "https://localhost:8080/",
          "height": 53
        },
        "outputId": "63c671f0-e261-4d79-9cfe-a4113e8158e0"
      },
      "source": [
        "notsure.대학생자녀스코어.value_counts()"
      ],
      "execution_count": 57,
      "outputs": [
        {
          "output_type": "execute_result",
          "data": {
            "text/plain": [
              "low    28622\n",
              "Name: 대학생자녀스코어, dtype: int64"
            ]
          },
          "metadata": {
            "tags": []
          },
          "execution_count": 57
        }
      ]
    },
    {
      "cell_type": "code",
      "metadata": {
        "id": "SUzSe34iYfDc",
        "colab_type": "code",
        "colab": {
          "base_uri": "https://localhost:8080/",
          "height": 89
        },
        "outputId": "0c7c9025-5b2f-44dd-94c5-fa1219be31e5"
      },
      "source": [
        "notsure.전업주부스코어.value_counts()"
      ],
      "execution_count": 58,
      "outputs": [
        {
          "output_type": "execute_result",
          "data": {
            "text/plain": [
              "low     14363\n",
              "mid     13080\n",
              "high     1179\n",
              "Name: 전업주부스코어, dtype: int64"
            ]
          },
          "metadata": {
            "tags": []
          },
          "execution_count": 58
        }
      ]
    },
    {
      "cell_type": "markdown",
      "metadata": {
        "id": "qtQGy4Z0-aPU",
        "colab_type": "text"
      },
      "source": [
        "- 기혼스코어 high\n",
        "- 결혼 확률이 높은 사람들"
      ]
    },
    {
      "cell_type": "code",
      "metadata": {
        "id": "F55wAaZgYelk",
        "colab_type": "code",
        "colab": {
          "base_uri": "https://localhost:8080/",
          "height": 419
        },
        "outputId": "23739195-432a-49dd-aa8b-9fc23d2c5bd3"
      },
      "source": [
        "married= s201905[s201905.기혼스코어 =='high']\n",
        "married\n",
        "# 총 83545"
      ],
      "execution_count": 59,
      "outputs": [
        {
          "output_type": "execute_result",
          "data": {
            "text/html": [
              "<div>\n",
              "<style scoped>\n",
              "    .dataframe tbody tr th:only-of-type {\n",
              "        vertical-align: middle;\n",
              "    }\n",
              "\n",
              "    .dataframe tbody tr th {\n",
              "        vertical-align: top;\n",
              "    }\n",
              "\n",
              "    .dataframe thead th {\n",
              "        text-align: right;\n",
              "    }\n",
              "</style>\n",
              "<table border=\"1\" class=\"dataframe\">\n",
              "  <thead>\n",
              "    <tr style=\"text-align: right;\">\n",
              "      <th></th>\n",
              "      <th>YM</th>\n",
              "      <th>Category</th>\n",
              "      <th>성별구분</th>\n",
              "      <th>연령대</th>\n",
              "      <th>기혼스코어</th>\n",
              "      <th>유아자녀스코어</th>\n",
              "      <th>초등학생자녀스코어</th>\n",
              "      <th>중고생자녀스코어</th>\n",
              "      <th>대학생자녀스코어</th>\n",
              "      <th>전업주부스코어</th>\n",
              "    </tr>\n",
              "  </thead>\n",
              "  <tbody>\n",
              "    <tr>\n",
              "      <th>210470</th>\n",
              "      <td>201905</td>\n",
              "      <td>할인점</td>\n",
              "      <td>1</td>\n",
              "      <td>F</td>\n",
              "      <td>high</td>\n",
              "      <td>low</td>\n",
              "      <td>mid</td>\n",
              "      <td>mid</td>\n",
              "      <td>mid</td>\n",
              "      <td>mid</td>\n",
              "    </tr>\n",
              "    <tr>\n",
              "      <th>210471</th>\n",
              "      <td>201905</td>\n",
              "      <td>전문몰</td>\n",
              "      <td>0</td>\n",
              "      <td>G</td>\n",
              "      <td>high</td>\n",
              "      <td>low</td>\n",
              "      <td>mid</td>\n",
              "      <td>mid</td>\n",
              "      <td>mid</td>\n",
              "      <td>low</td>\n",
              "    </tr>\n",
              "    <tr>\n",
              "      <th>210472</th>\n",
              "      <td>201905</td>\n",
              "      <td>전문몰</td>\n",
              "      <td>1</td>\n",
              "      <td>H</td>\n",
              "      <td>high</td>\n",
              "      <td>low</td>\n",
              "      <td>low</td>\n",
              "      <td>low</td>\n",
              "      <td>mid</td>\n",
              "      <td>mid</td>\n",
              "    </tr>\n",
              "    <tr>\n",
              "      <th>210473</th>\n",
              "      <td>201905</td>\n",
              "      <td>디저트</td>\n",
              "      <td>1</td>\n",
              "      <td>D</td>\n",
              "      <td>high</td>\n",
              "      <td>high</td>\n",
              "      <td>mid</td>\n",
              "      <td>mid</td>\n",
              "      <td>low</td>\n",
              "      <td>mid</td>\n",
              "    </tr>\n",
              "    <tr>\n",
              "      <th>210474</th>\n",
              "      <td>201905</td>\n",
              "      <td>전문몰</td>\n",
              "      <td>0</td>\n",
              "      <td>H</td>\n",
              "      <td>high</td>\n",
              "      <td>low</td>\n",
              "      <td>low</td>\n",
              "      <td>low</td>\n",
              "      <td>low</td>\n",
              "      <td>low</td>\n",
              "    </tr>\n",
              "    <tr>\n",
              "      <th>...</th>\n",
              "      <td>...</td>\n",
              "      <td>...</td>\n",
              "      <td>...</td>\n",
              "      <td>...</td>\n",
              "      <td>...</td>\n",
              "      <td>...</td>\n",
              "      <td>...</td>\n",
              "      <td>...</td>\n",
              "      <td>...</td>\n",
              "      <td>...</td>\n",
              "    </tr>\n",
              "    <tr>\n",
              "      <th>331913</th>\n",
              "      <td>201905</td>\n",
              "      <td>할인점</td>\n",
              "      <td>1</td>\n",
              "      <td>B</td>\n",
              "      <td>high</td>\n",
              "      <td>low</td>\n",
              "      <td>mid</td>\n",
              "      <td>mid</td>\n",
              "      <td>low</td>\n",
              "      <td>mid</td>\n",
              "    </tr>\n",
              "    <tr>\n",
              "      <th>331914</th>\n",
              "      <td>201905</td>\n",
              "      <td>디저트</td>\n",
              "      <td>1</td>\n",
              "      <td>D</td>\n",
              "      <td>high</td>\n",
              "      <td>mid</td>\n",
              "      <td>low</td>\n",
              "      <td>mid</td>\n",
              "      <td>low</td>\n",
              "      <td>mid</td>\n",
              "    </tr>\n",
              "    <tr>\n",
              "      <th>331915</th>\n",
              "      <td>201905</td>\n",
              "      <td>할인점</td>\n",
              "      <td>0</td>\n",
              "      <td>B</td>\n",
              "      <td>high</td>\n",
              "      <td>low</td>\n",
              "      <td>high</td>\n",
              "      <td>mid</td>\n",
              "      <td>low</td>\n",
              "      <td>low</td>\n",
              "    </tr>\n",
              "    <tr>\n",
              "      <th>331916</th>\n",
              "      <td>201905</td>\n",
              "      <td>호텔/숙박</td>\n",
              "      <td>0</td>\n",
              "      <td>F</td>\n",
              "      <td>high</td>\n",
              "      <td>low</td>\n",
              "      <td>mid</td>\n",
              "      <td>mid</td>\n",
              "      <td>mid</td>\n",
              "      <td>low</td>\n",
              "    </tr>\n",
              "    <tr>\n",
              "      <th>331917</th>\n",
              "      <td>201905</td>\n",
              "      <td>면세점</td>\n",
              "      <td>1</td>\n",
              "      <td>B</td>\n",
              "      <td>high</td>\n",
              "      <td>low</td>\n",
              "      <td>high</td>\n",
              "      <td>mid</td>\n",
              "      <td>mid</td>\n",
              "      <td>mid</td>\n",
              "    </tr>\n",
              "  </tbody>\n",
              "</table>\n",
              "<p>83545 rows × 10 columns</p>\n",
              "</div>"
            ],
            "text/plain": [
              "            YM Category  성별구분 연령대  ... 초등학생자녀스코어 중고생자녀스코어 대학생자녀스코어 전업주부스코어\n",
              "210470  201905      할인점     1   F  ...       mid      mid      mid     mid\n",
              "210471  201905      전문몰     0   G  ...       mid      mid      mid     low\n",
              "210472  201905      전문몰     1   H  ...       low      low      mid     mid\n",
              "210473  201905      디저트     1   D  ...       mid      mid      low     mid\n",
              "210474  201905      전문몰     0   H  ...       low      low      low     low\n",
              "...        ...      ...   ...  ..  ...       ...      ...      ...     ...\n",
              "331913  201905      할인점     1   B  ...       mid      mid      low     mid\n",
              "331914  201905      디저트     1   D  ...       low      mid      low     mid\n",
              "331915  201905      할인점     0   B  ...      high      mid      low     low\n",
              "331916  201905    호텔/숙박     0   F  ...       mid      mid      mid     low\n",
              "331917  201905      면세점     1   B  ...      high      mid      mid     mid\n",
              "\n",
              "[83545 rows x 10 columns]"
            ]
          },
          "metadata": {
            "tags": []
          },
          "execution_count": 59
        }
      ]
    },
    {
      "cell_type": "code",
      "metadata": {
        "id": "ItyR61Nd4lsZ",
        "colab_type": "code",
        "colab": {
          "base_uri": "https://localhost:8080/",
          "height": 215
        },
        "outputId": "0dae8c2a-2b8d-4b8c-a245-a47049787f2c"
      },
      "source": [
        "married.Category.value_counts()\n",
        "# 전문몰 - 온라인 쇼핑몰(서적, 교육, 스포츠 특화 등)  2481\n",
        "# 할인점 - 오프라인 마트, 오프라인 아울렛 등\n",
        "# 디저트 - 커피 카페, 제과점"
      ],
      "execution_count": 60,
      "outputs": [
        {
          "output_type": "execute_result",
          "data": {
            "text/plain": [
              "전문몰        21373\n",
              "할인점        19880\n",
              "디저트        16355\n",
              "오픈마켓/소셜    12096\n",
              "뷰티          3783\n",
              "취미          3561\n",
              "종합몰         2769\n",
              "호텔/숙박       1644\n",
              "항공/여행사      1433\n",
              "면세점          651\n",
              "Name: Category, dtype: int64"
            ]
          },
          "metadata": {
            "tags": []
          },
          "execution_count": 60
        }
      ]
    },
    {
      "cell_type": "code",
      "metadata": {
        "id": "GXrhGBe44l5V",
        "colab_type": "code",
        "colab": {
          "base_uri": "https://localhost:8080/",
          "height": 71
        },
        "outputId": "85c140e8-787e-409c-8f89-dd3bc45f5e7d"
      },
      "source": [
        "married.성별구분.value_counts()"
      ],
      "execution_count": 61,
      "outputs": [
        {
          "output_type": "execute_result",
          "data": {
            "text/plain": [
              "1    43945\n",
              "0    39600\n",
              "Name: 성별구분, dtype: int64"
            ]
          },
          "metadata": {
            "tags": []
          },
          "execution_count": 61
        }
      ]
    },
    {
      "cell_type": "code",
      "metadata": {
        "id": "VPhQuimI4l0M",
        "colab_type": "code",
        "colab": {
          "base_uri": "https://localhost:8080/",
          "height": 179
        },
        "outputId": "90b1885c-5e1b-4c4c-89dd-e79a48c57a15"
      },
      "source": [
        "married.연령대.value_counts()\n",
        "# 연령대가 다 생김\n",
        "# E 721명"
      ],
      "execution_count": 62,
      "outputs": [
        {
          "output_type": "execute_result",
          "data": {
            "text/plain": [
              "A    18997\n",
              "F    18381\n",
              "G    13358\n",
              "D    10350\n",
              "H     9637\n",
              "B     9349\n",
              "C     2752\n",
              "E      721\n",
              "Name: 연령대, dtype: int64"
            ]
          },
          "metadata": {
            "tags": []
          },
          "execution_count": 62
        }
      ]
    },
    {
      "cell_type": "code",
      "metadata": {
        "id": "agUHWDW_4l-9",
        "colab_type": "code",
        "colab": {
          "base_uri": "https://localhost:8080/",
          "height": 89
        },
        "outputId": "870d0ea0-7820-4f70-f544-fc813185a991"
      },
      "source": [
        "married.유아자녀스코어.value_counts()  # 유아 4681"
      ],
      "execution_count": 63,
      "outputs": [
        {
          "output_type": "execute_result",
          "data": {
            "text/plain": [
              "low     55856\n",
              "mid     23008\n",
              "high     4681\n",
              "Name: 유아자녀스코어, dtype: int64"
            ]
          },
          "metadata": {
            "tags": []
          },
          "execution_count": 63
        }
      ]
    },
    {
      "cell_type": "code",
      "metadata": {
        "id": "BXCVmNze4mER",
        "colab_type": "code",
        "colab": {
          "base_uri": "https://localhost:8080/",
          "height": 89
        },
        "outputId": "82c2ec8d-5ffe-4d43-9e96-8b83b676381c"
      },
      "source": [
        "married.초등학생자녀스코어.value_counts() # 초등학생 17268"
      ],
      "execution_count": 64,
      "outputs": [
        {
          "output_type": "execute_result",
          "data": {
            "text/plain": [
              "low     33181\n",
              "mid     33096\n",
              "high    17268\n",
              "Name: 초등학생자녀스코어, dtype: int64"
            ]
          },
          "metadata": {
            "tags": []
          },
          "execution_count": 64
        }
      ]
    },
    {
      "cell_type": "code",
      "metadata": {
        "id": "AaBztmH24mJy",
        "colab_type": "code",
        "colab": {
          "base_uri": "https://localhost:8080/",
          "height": 89
        },
        "outputId": "cf82c7b1-91e2-4be8-84d2-f16fc542c428"
      },
      "source": [
        "married.중고생자녀스코어.value_counts()  # 중고생 8701"
      ],
      "execution_count": 65,
      "outputs": [
        {
          "output_type": "execute_result",
          "data": {
            "text/plain": [
              "mid     61294\n",
              "low     13550\n",
              "high     8701\n",
              "Name: 중고생자녀스코어, dtype: int64"
            ]
          },
          "metadata": {
            "tags": []
          },
          "execution_count": 65
        }
      ]
    },
    {
      "cell_type": "code",
      "metadata": {
        "id": "CJnCD6024mPL",
        "colab_type": "code",
        "colab": {
          "base_uri": "https://localhost:8080/",
          "height": 89
        },
        "outputId": "6a5d7a8a-638a-4a2c-84ae-5fe5775cae71"
      },
      "source": [
        "married.대학생자녀스코어.value_counts()  # 대학생 1005"
      ],
      "execution_count": 66,
      "outputs": [
        {
          "output_type": "execute_result",
          "data": {
            "text/plain": [
              "low     56682\n",
              "mid     25858\n",
              "high     1005\n",
              "Name: 대학생자녀스코어, dtype: int64"
            ]
          },
          "metadata": {
            "tags": []
          },
          "execution_count": 66
        }
      ]
    },
    {
      "cell_type": "code",
      "metadata": {
        "id": "8uZc33aa4mWl",
        "colab_type": "code",
        "colab": {
          "base_uri": "https://localhost:8080/",
          "height": 89
        },
        "outputId": "a40f3a40-b274-4375-f693-1a26d92f4135"
      },
      "source": [
        "married.전업주부스코어.value_counts()"
      ],
      "execution_count": 67,
      "outputs": [
        {
          "output_type": "execute_result",
          "data": {
            "text/plain": [
              "low     42521\n",
              "mid     35900\n",
              "high     5124\n",
              "Name: 전업주부스코어, dtype: int64"
            ]
          },
          "metadata": {
            "tags": []
          },
          "execution_count": 67
        }
      ]
    },
    {
      "cell_type": "markdown",
      "metadata": {
        "id": "TNM4LUsr8_mF",
        "colab_type": "text"
      },
      "source": [
        "### 2019.5월 데이터 시각화\n"
      ]
    },
    {
      "cell_type": "code",
      "metadata": {
        "id": "IJNJG-eJ_10Q",
        "colab_type": "code",
        "colab": {
          "base_uri": "https://localhost:8080/",
          "height": 377
        },
        "outputId": "892f35e9-59ba-431a-cccd-00003bc5f85b"
      },
      "source": [
        "!sudo apt-get install -y fonts-nanum\n",
        "!sudo fc-cache -fv\n",
        "!rm ~/.cache/matplotlib -rf"
      ],
      "execution_count": 34,
      "outputs": [
        {
          "output_type": "stream",
          "text": [
            "Reading package lists... Done\n",
            "Building dependency tree       \n",
            "Reading state information... Done\n",
            "fonts-nanum is already the newest version (20170925-1).\n",
            "The following package was automatically installed and is no longer required:\n",
            "  libnvidia-common-440\n",
            "Use 'sudo apt autoremove' to remove it.\n",
            "0 upgraded, 0 newly installed, 0 to remove and 35 not upgraded.\n",
            "/usr/share/fonts: caching, new cache contents: 0 fonts, 1 dirs\n",
            "/usr/share/fonts/truetype: caching, new cache contents: 0 fonts, 3 dirs\n",
            "/usr/share/fonts/truetype/humor-sans: caching, new cache contents: 1 fonts, 0 dirs\n",
            "/usr/share/fonts/truetype/liberation: caching, new cache contents: 16 fonts, 0 dirs\n",
            "/usr/share/fonts/truetype/nanum: caching, new cache contents: 10 fonts, 0 dirs\n",
            "/usr/local/share/fonts: caching, new cache contents: 0 fonts, 0 dirs\n",
            "/root/.local/share/fonts: skipping, no such directory\n",
            "/root/.fonts: skipping, no such directory\n",
            "/var/cache/fontconfig: cleaning cache directory\n",
            "/root/.cache/fontconfig: not cleaning non-existent cache directory\n",
            "/root/.fontconfig: not cleaning non-existent cache directory\n",
            "fc-cache: succeeded\n"
          ],
          "name": "stdout"
        }
      ]
    },
    {
      "cell_type": "code",
      "metadata": {
        "id": "nH58Oy7NBEpf",
        "colab_type": "code",
        "colab": {}
      },
      "source": [
        "import matplotlib.pyplot as plt\n",
        "\n",
        "plt.rc('font', family='NanumBarunGothic') "
      ],
      "execution_count": 69,
      "outputs": []
    },
    {
      "cell_type": "code",
      "metadata": {
        "id": "jMs8ebA8GZnR",
        "colab_type": "code",
        "colab": {
          "base_uri": "https://localhost:8080/",
          "height": 787
        },
        "outputId": "ccf980d6-83a7-4e3b-ee42-8a4d5cbd1228"
      },
      "source": [
        "f, ax = plt.subplots(figsize=(13, 13))\n",
        "sns.countplot(y=\"Category\", hue=\"연령대\", data=unmarried)\n",
        "# 전문몰 - 온라인 쇼핑몰(서적, 교육, 스포츠 특화 등) \n",
        "# 디저트 - 커피 카페, 제과점\n",
        "# 오픈마켓/소셜 - 온라인 쇼핑몰"
      ],
      "execution_count": 94,
      "outputs": [
        {
          "output_type": "execute_result",
          "data": {
            "text/plain": [
              "<matplotlib.axes._subplots.AxesSubplot at 0x7f35c6649278>"
            ]
          },
          "metadata": {
            "tags": []
          },
          "execution_count": 94
        },
        {
          "output_type": "display_data",
          "data": {
            "image/png": "[encoded data removed]",
            "text/plain": [
              "<Figure size 936x936 with 1 Axes>"
            ]
          },
          "metadata": {
            "tags": [],
            "needs_background": "light"
          }
        }
      ]
    },
    {
      "cell_type": "code",
      "metadata": {
        "id": "RtwjQdGj4mRx",
        "colab_type": "code",
        "colab": {
          "base_uri": "https://localhost:8080/",
          "height": 401
        },
        "outputId": "28566f90-0e11-4f58-e642-327d4209dcc2"
      },
      "source": [
        "sns.catplot(y=\"Category\", hue=\"연령대\",col=\"연령대\", kind=\"count\", data=unmarried)"
      ],
      "execution_count": 85,
      "outputs": [
        {
          "output_type": "execute_result",
          "data": {
            "text/plain": [
              "<seaborn.axisgrid.FacetGrid at 0x7f35c7769438>"
            ]
          },
          "metadata": {
            "tags": []
          },
          "execution_count": 85
        },
        {
          "output_type": "display_data",
          "data": {
            "image/png": "[encoded data removed]",
            "text/plain": [
              "<Figure size 720x360 with 2 Axes>"
            ]
          },
          "metadata": {
            "tags": [],
            "needs_background": "light"
          }
        }
      ]
    },
    {
      "cell_type": "code",
      "metadata": {
        "id": "9baS6Q3cGdZk",
        "colab_type": "code",
        "colab": {
          "base_uri": "https://localhost:8080/",
          "height": 787
        },
        "outputId": "67af02d7-095d-4d13-89a4-050edeed13f3"
      },
      "source": [
        "f, ax = plt.subplots(figsize=(13, 13))\n",
        "sns.countplot(y='Category', hue=\"연령대\", data=notsure)\n",
        "# 전문몰 - 온라인 쇼핑몰(서적, 교육, 스포츠 특화 등)  2481\n",
        "# 디저트 - 커피 카페, 제과점\n",
        "# 오픈마켓/소셜 - 온라인 쇼핑몰"
      ],
      "execution_count": 95,
      "outputs": [
        {
          "output_type": "execute_result",
          "data": {
            "text/plain": [
              "<matplotlib.axes._subplots.AxesSubplot at 0x7f35c6d7ea58>"
            ]
          },
          "metadata": {
            "tags": []
          },
          "execution_count": 95
        },
        {
          "output_type": "display_data",
          "data": {
            "image/png": "[encoded data removed]",
            "text/plain": [
              "<Figure size 936x936 with 1 Axes>"
            ]
          },
          "metadata": {
            "tags": [],
            "needs_background": "light"
          }
        }
      ]
    },
    {
      "cell_type": "code",
      "metadata": {
        "id": "yNUsShoo4mMo",
        "colab_type": "code",
        "colab": {
          "base_uri": "https://localhost:8080/",
          "height": 401
        },
        "outputId": "1e5e0a90-e551-4da9-f33a-4cf4eb8b0399"
      },
      "source": [
        "sns.catplot(y='Category', hue=\"연령대\", col=\"연령대\", kind=\"count\", data=notsure)\n"
      ],
      "execution_count": 86,
      "outputs": [
        {
          "output_type": "execute_result",
          "data": {
            "text/plain": [
              "<seaborn.axisgrid.FacetGrid at 0x7f35c7e2c4a8>"
            ]
          },
          "metadata": {
            "tags": []
          },
          "execution_count": 86
        },
        {
          "output_type": "display_data",
          "data": {
            "image/png": "[encoded data removed]",
            "text/plain": [
              "<Figure size 1080x360 with 3 Axes>"
            ]
          },
          "metadata": {
            "tags": [],
            "needs_background": "light"
          }
        }
      ]
    },
    {
      "cell_type": "code",
      "metadata": {
        "id": "acQQNABc4mGw",
        "colab_type": "code",
        "colab": {
          "base_uri": "https://localhost:8080/",
          "height": 787
        },
        "outputId": "c4724650-9554-47f5-f97a-ffc5ebe1cab0"
      },
      "source": [
        "f, ax = plt.subplots(figsize=(13, 13))\n",
        "sns.countplot(y='Category', hue=\"연령대\", data=married)\n",
        "# 전문몰 - 온라인 쇼핑몰(서적, 교육, 스포츠 특화 등)  2481\n",
        "# 할인점 - 오프라인 마트, 오프라인 아울렛 등\n",
        "# 디저트 - 커피 카페, 제과점"
      ],
      "execution_count": 96,
      "outputs": [
        {
          "output_type": "execute_result",
          "data": {
            "text/plain": [
              "<matplotlib.axes._subplots.AxesSubplot at 0x7f35c69aa710>"
            ]
          },
          "metadata": {
            "tags": []
          },
          "execution_count": 96
        },
        {
          "output_type": "display_data",
          "data": {
            "image/png": "[encoded data removed]",
            "text/plain": [
              "<Figure size 936x936 with 1 Axes>"
            ]
          },
          "metadata": {
            "tags": [],
            "needs_background": "light"
          }
        }
      ]
    },
    {
      "cell_type": "code",
      "metadata": {
        "id": "AckKmvzS4mB6",
        "colab_type": "code",
        "colab": {
          "base_uri": "https://localhost:8080/",
          "height": 1000
        },
        "outputId": "1aaab28f-6793-45db-8522-2d075e042335"
      },
      "source": [
        "sns.catplot(y='Category', hue=\"연령대\",col='연령대', col_wrap=3, kind='count', data=married)"
      ],
      "execution_count": 102,
      "outputs": [
        {
          "output_type": "execute_result",
          "data": {
            "text/plain": [
              "<seaborn.axisgrid.FacetGrid at 0x7f35c48ec358>"
            ]
          },
          "metadata": {
            "tags": []
          },
          "execution_count": 102
        },
        {
          "output_type": "display_data",
          "data": {
            "image/png": "[encoded data removed]",
            "text/plain": [
              "<Figure size 1080x1080 with 8 Axes>"
            ]
          },
          "metadata": {
            "tags": [],
            "needs_background": "light"
          }
        }
      ]
    },
    {
      "cell_type": "markdown",
      "metadata": {
        "id": "h2FeHTuMNikq",
        "colab_type": "text"
      },
      "source": [
        "### 신용카드를 사용하는 연령 순은 E < C < D\n",
        "- E가 제일 어리고 그 다음 C, D 순으로 나이가 많아짐"
      ]
    },
    {
      "cell_type": "code",
      "metadata": {
        "id": "1WmCcyyR4l8X",
        "colab_type": "code",
        "colab": {}
      },
      "source": [
        ""
      ],
      "execution_count": 35,
      "outputs": []
    }
  ]
}