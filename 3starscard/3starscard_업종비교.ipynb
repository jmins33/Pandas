{
  "nbformat": 4,
  "nbformat_minor": 0,
  "metadata": {
    "colab": {
      "name": "3starscard_업종비교.ipynb",
      "provenance": [],
      "collapsed_sections": [],
      "authorship_tag": "ABX9TyMRD8MEDKSmS5poRdMqqd4q",
      "include_colab_link": true
    },
    "kernelspec": {
      "name": "python3",
      "display_name": "Python 3"
    }
  },
  "cells": [
    {
      "cell_type": "markdown",
      "metadata": {
        "id": "view-in-github",
        "colab_type": "text"
      },
      "source": [
        "<a href=\"https://colab.research.google.com/github/jmins33/Pandas/blob/master/3starscard/3starscard_%EC%97%85%EC%A2%85%EB%B9%84%EA%B5%90.ipynb\" target=\"_parent\"><img src=\"https://colab.research.google.com/assets/colab-badge.svg\" alt=\"Open In Colab\"/></a>"
      ]
    },
    {
      "cell_type": "code",
      "metadata": {
        "id": "XLiKhe2UK89V",
        "colab_type": "code",
        "colab": {}
      },
      "source": [
        "import numpy as np\n",
        "import seaborn as sns\n",
        "import pandas as pd\n",
        "import matplotlib.pyplot as plt"
      ],
      "execution_count": null,
      "outputs": []
    },
    {
      "cell_type": "markdown",
      "metadata": {
        "id": "amdRIviALAyj",
        "colab_type": "text"
      },
      "source": [
        "## Google Drive 연동"
      ]
    },
    {
      "cell_type": "code",
      "metadata": {
        "id": "anVX3zbnLAk1",
        "colab_type": "code",
        "colab": {
          "base_uri": "https://localhost:8080/",
          "height": 53
        },
        "outputId": "cbe7a80c-6df0-44c4-99e4-880fe4f3d25c"
      },
      "source": [
        "# Mount Google Drive\n",
        "from google.colab import drive # import drive from google colab\n",
        "\n",
        "ROOT = \"/content/drive\"     # default location for the drive\n",
        "print(ROOT)                 # print content of ROOT (Optional)\n",
        "drive.mount(ROOT)           # we mount the google drive at /content/drive"
      ],
      "execution_count": null,
      "outputs": [
        {
          "output_type": "stream",
          "text": [
            "/content/drive\n",
            "Drive already mounted at /content/drive; to attempt to forcibly remount, call drive.mount(\"/content/drive\", force_remount=True).\n"
          ],
          "name": "stdout"
        }
      ]
    },
    {
      "cell_type": "code",
      "metadata": {
        "id": "_wAiC27wLAig",
        "colab_type": "code",
        "colab": {}
      },
      "source": [
        "# import join used to join ROOT path and MY_GOOGLE_DRIVE_PATH\n",
        "from os.path import join  \n",
        "\n",
        "# path to your project on Google Drive\n",
        "MY_GOOGLE_DRIVE_PATH = 'My Drive/3starcard'\n",
        "PROJECT_PATH = join(ROOT, MY_GOOGLE_DRIVE_PATH)"
      ],
      "execution_count": null,
      "outputs": []
    },
    {
      "cell_type": "code",
      "metadata": {
        "id": "_APxfajZLAf7",
        "colab_type": "code",
        "colab": {
          "base_uri": "https://localhost:8080/",
          "height": 107
        },
        "outputId": "f79c63bb-23f5-4fd5-cdfe-7662c40f6fab"
      },
      "source": [
        "%cd \"{PROJECT_PATH}\"\n",
        "!ls"
      ],
      "execution_count": null,
      "outputs": [
        {
          "output_type": "stream",
          "text": [
            "/content/drive/My Drive/3starcard\n",
            "'[기타] SCDC_공모전 테이블 설명.xlsx'  '[Track1_데이터4] variable_dtype.xlsx'\n",
            "'[Track1_데이터1] mrc_info.csv'        '[Track2_데이터1] trend_w_demo.csv'\n",
            "'[Track1_데이터2] samp_train.csv'      '[Track2_데이터2] 업종_예시.xlsx'\n",
            "'[Track1_데이터3] samp_cst_feat.csv'\n"
          ],
          "name": "stdout"
        }
      ]
    },
    {
      "cell_type": "markdown",
      "metadata": {
        "id": "GLkdAh76LQar",
        "colab_type": "text"
      },
      "source": [
        "## 데이터 불러오기\n",
        "- 2019년 2020년 업종 비교\n",
        "- 2019년 2020년, 각 월 카드 사용량 비교"
      ]
    },
    {
      "cell_type": "code",
      "metadata": {
        "id": "IJj6MMXjLAda",
        "colab_type": "code",
        "colab": {}
      },
      "source": [
        "trend = pd.read_csv('[Track2_데이터1] trend_w_demo.csv', encoding='CP949')"
      ],
      "execution_count": null,
      "outputs": []
    },
    {
      "cell_type": "code",
      "metadata": {
        "id": "8sYddeb4LAYT",
        "colab_type": "code",
        "colab": {
          "base_uri": "https://localhost:8080/",
          "height": 419
        },
        "outputId": "c1509a6a-6589-4bac-ed1a-0244a2dccdea"
      },
      "source": [
        "# 2019년 데이터\n",
        "s2019 = trend.loc[210468:]\n",
        "s2019"
      ],
      "execution_count": null,
      "outputs": [
        {
          "output_type": "execute_result",
          "data": {
            "text/html": [
              "<div>\n",
              "<style scoped>\n",
              "    .dataframe tbody tr th:only-of-type {\n",
              "        vertical-align: middle;\n",
              "    }\n",
              "\n",
              "    .dataframe tbody tr th {\n",
              "        vertical-align: top;\n",
              "    }\n",
              "\n",
              "    .dataframe thead th {\n",
              "        text-align: right;\n",
              "    }\n",
              "</style>\n",
              "<table border=\"1\" class=\"dataframe\">\n",
              "  <thead>\n",
              "    <tr style=\"text-align: right;\">\n",
              "      <th></th>\n",
              "      <th>YM</th>\n",
              "      <th>Category</th>\n",
              "      <th>성별구분</th>\n",
              "      <th>연령대</th>\n",
              "      <th>기혼스코어</th>\n",
              "      <th>유아자녀스코어</th>\n",
              "      <th>초등학생자녀스코어</th>\n",
              "      <th>중고생자녀스코어</th>\n",
              "      <th>대학생자녀스코어</th>\n",
              "      <th>전업주부스코어</th>\n",
              "    </tr>\n",
              "  </thead>\n",
              "  <tbody>\n",
              "    <tr>\n",
              "      <th>210468</th>\n",
              "      <td>201905</td>\n",
              "      <td>전문몰</td>\n",
              "      <td>1</td>\n",
              "      <td>E</td>\n",
              "      <td>low</td>\n",
              "      <td>low</td>\n",
              "      <td>low</td>\n",
              "      <td>low</td>\n",
              "      <td>low</td>\n",
              "      <td>mid</td>\n",
              "    </tr>\n",
              "    <tr>\n",
              "      <th>210469</th>\n",
              "      <td>201905</td>\n",
              "      <td>전문몰</td>\n",
              "      <td>1</td>\n",
              "      <td>E</td>\n",
              "      <td>mid</td>\n",
              "      <td>mid</td>\n",
              "      <td>low</td>\n",
              "      <td>low</td>\n",
              "      <td>low</td>\n",
              "      <td>mid</td>\n",
              "    </tr>\n",
              "    <tr>\n",
              "      <th>210470</th>\n",
              "      <td>201905</td>\n",
              "      <td>할인점</td>\n",
              "      <td>1</td>\n",
              "      <td>F</td>\n",
              "      <td>high</td>\n",
              "      <td>low</td>\n",
              "      <td>mid</td>\n",
              "      <td>mid</td>\n",
              "      <td>mid</td>\n",
              "      <td>mid</td>\n",
              "    </tr>\n",
              "    <tr>\n",
              "      <th>210471</th>\n",
              "      <td>201905</td>\n",
              "      <td>전문몰</td>\n",
              "      <td>0</td>\n",
              "      <td>G</td>\n",
              "      <td>high</td>\n",
              "      <td>low</td>\n",
              "      <td>mid</td>\n",
              "      <td>mid</td>\n",
              "      <td>mid</td>\n",
              "      <td>low</td>\n",
              "    </tr>\n",
              "    <tr>\n",
              "      <th>210472</th>\n",
              "      <td>201905</td>\n",
              "      <td>전문몰</td>\n",
              "      <td>1</td>\n",
              "      <td>H</td>\n",
              "      <td>high</td>\n",
              "      <td>low</td>\n",
              "      <td>low</td>\n",
              "      <td>low</td>\n",
              "      <td>mid</td>\n",
              "      <td>mid</td>\n",
              "    </tr>\n",
              "    <tr>\n",
              "      <th>...</th>\n",
              "      <td>...</td>\n",
              "      <td>...</td>\n",
              "      <td>...</td>\n",
              "      <td>...</td>\n",
              "      <td>...</td>\n",
              "      <td>...</td>\n",
              "      <td>...</td>\n",
              "      <td>...</td>\n",
              "      <td>...</td>\n",
              "      <td>...</td>\n",
              "    </tr>\n",
              "    <tr>\n",
              "      <th>452033</th>\n",
              "      <td>201904</td>\n",
              "      <td>전문몰</td>\n",
              "      <td>0</td>\n",
              "      <td>E</td>\n",
              "      <td>low</td>\n",
              "      <td>mid</td>\n",
              "      <td>low</td>\n",
              "      <td>low</td>\n",
              "      <td>low</td>\n",
              "      <td>low</td>\n",
              "    </tr>\n",
              "    <tr>\n",
              "      <th>452034</th>\n",
              "      <td>201904</td>\n",
              "      <td>할인점</td>\n",
              "      <td>0</td>\n",
              "      <td>H</td>\n",
              "      <td>high</td>\n",
              "      <td>low</td>\n",
              "      <td>low</td>\n",
              "      <td>low</td>\n",
              "      <td>low</td>\n",
              "      <td>low</td>\n",
              "    </tr>\n",
              "    <tr>\n",
              "      <th>452035</th>\n",
              "      <td>201904</td>\n",
              "      <td>할인점</td>\n",
              "      <td>1</td>\n",
              "      <td>H</td>\n",
              "      <td>high</td>\n",
              "      <td>low</td>\n",
              "      <td>low</td>\n",
              "      <td>low</td>\n",
              "      <td>low</td>\n",
              "      <td>low</td>\n",
              "    </tr>\n",
              "    <tr>\n",
              "      <th>452036</th>\n",
              "      <td>201904</td>\n",
              "      <td>할인점</td>\n",
              "      <td>0</td>\n",
              "      <td>H</td>\n",
              "      <td>high</td>\n",
              "      <td>low</td>\n",
              "      <td>low</td>\n",
              "      <td>low</td>\n",
              "      <td>low</td>\n",
              "      <td>low</td>\n",
              "    </tr>\n",
              "    <tr>\n",
              "      <th>452037</th>\n",
              "      <td>201904</td>\n",
              "      <td>할인점</td>\n",
              "      <td>1</td>\n",
              "      <td>B</td>\n",
              "      <td>high</td>\n",
              "      <td>low</td>\n",
              "      <td>mid</td>\n",
              "      <td>mid</td>\n",
              "      <td>low</td>\n",
              "      <td>mid</td>\n",
              "    </tr>\n",
              "  </tbody>\n",
              "</table>\n",
              "<p>241570 rows × 10 columns</p>\n",
              "</div>"
            ],
            "text/plain": [
              "            YM Category  성별구분 연령대  ... 초등학생자녀스코어 중고생자녀스코어 대학생자녀스코어 전업주부스코어\n",
              "210468  201905      전문몰     1   E  ...       low      low      low     mid\n",
              "210469  201905      전문몰     1   E  ...       low      low      low     mid\n",
              "210470  201905      할인점     1   F  ...       mid      mid      mid     mid\n",
              "210471  201905      전문몰     0   G  ...       mid      mid      mid     low\n",
              "210472  201905      전문몰     1   H  ...       low      low      mid     mid\n",
              "...        ...      ...   ...  ..  ...       ...      ...      ...     ...\n",
              "452033  201904      전문몰     0   E  ...       low      low      low     low\n",
              "452034  201904      할인점     0   H  ...       low      low      low     low\n",
              "452035  201904      할인점     1   H  ...       low      low      low     low\n",
              "452036  201904      할인점     0   H  ...       low      low      low     low\n",
              "452037  201904      할인점     1   B  ...       mid      mid      low     mid\n",
              "\n",
              "[241570 rows x 10 columns]"
            ]
          },
          "metadata": {
            "tags": []
          },
          "execution_count": 110
        }
      ]
    },
    {
      "cell_type": "code",
      "metadata": {
        "id": "3iZdgqLr0znc",
        "colab_type": "code",
        "colab": {
          "base_uri": "https://localhost:8080/",
          "height": 419
        },
        "outputId": "df32303e-3185-4348-c18b-b1a7507d63ac"
      },
      "source": [
        "# 2020년 데이터\n",
        "s2020 = trend.loc[:210467]\n",
        "s2020"
      ],
      "execution_count": null,
      "outputs": [
        {
          "output_type": "execute_result",
          "data": {
            "text/html": [
              "<div>\n",
              "<style scoped>\n",
              "    .dataframe tbody tr th:only-of-type {\n",
              "        vertical-align: middle;\n",
              "    }\n",
              "\n",
              "    .dataframe tbody tr th {\n",
              "        vertical-align: top;\n",
              "    }\n",
              "\n",
              "    .dataframe thead th {\n",
              "        text-align: right;\n",
              "    }\n",
              "</style>\n",
              "<table border=\"1\" class=\"dataframe\">\n",
              "  <thead>\n",
              "    <tr style=\"text-align: right;\">\n",
              "      <th></th>\n",
              "      <th>YM</th>\n",
              "      <th>Category</th>\n",
              "      <th>성별구분</th>\n",
              "      <th>연령대</th>\n",
              "      <th>기혼스코어</th>\n",
              "      <th>유아자녀스코어</th>\n",
              "      <th>초등학생자녀스코어</th>\n",
              "      <th>중고생자녀스코어</th>\n",
              "      <th>대학생자녀스코어</th>\n",
              "      <th>전업주부스코어</th>\n",
              "    </tr>\n",
              "  </thead>\n",
              "  <tbody>\n",
              "    <tr>\n",
              "      <th>0</th>\n",
              "      <td>202005</td>\n",
              "      <td>할인점</td>\n",
              "      <td>0</td>\n",
              "      <td>F</td>\n",
              "      <td>high</td>\n",
              "      <td>low</td>\n",
              "      <td>high</td>\n",
              "      <td>mid</td>\n",
              "      <td>low</td>\n",
              "      <td>low</td>\n",
              "    </tr>\n",
              "    <tr>\n",
              "      <th>1</th>\n",
              "      <td>202005</td>\n",
              "      <td>취미</td>\n",
              "      <td>0</td>\n",
              "      <td>B</td>\n",
              "      <td>high</td>\n",
              "      <td>low</td>\n",
              "      <td>mid</td>\n",
              "      <td>mid</td>\n",
              "      <td>low</td>\n",
              "      <td>low</td>\n",
              "    </tr>\n",
              "    <tr>\n",
              "      <th>2</th>\n",
              "      <td>202005</td>\n",
              "      <td>오픈마켓/소셜</td>\n",
              "      <td>1</td>\n",
              "      <td>D</td>\n",
              "      <td>mid</td>\n",
              "      <td>mid</td>\n",
              "      <td>mid</td>\n",
              "      <td>mid</td>\n",
              "      <td>low</td>\n",
              "      <td>mid</td>\n",
              "    </tr>\n",
              "    <tr>\n",
              "      <th>3</th>\n",
              "      <td>202005</td>\n",
              "      <td>뷰티</td>\n",
              "      <td>0</td>\n",
              "      <td>D</td>\n",
              "      <td>mid</td>\n",
              "      <td>mid</td>\n",
              "      <td>mid</td>\n",
              "      <td>mid</td>\n",
              "      <td>low</td>\n",
              "      <td>low</td>\n",
              "    </tr>\n",
              "    <tr>\n",
              "      <th>4</th>\n",
              "      <td>202005</td>\n",
              "      <td>오픈마켓/소셜</td>\n",
              "      <td>0</td>\n",
              "      <td>G</td>\n",
              "      <td>high</td>\n",
              "      <td>low</td>\n",
              "      <td>mid</td>\n",
              "      <td>mid</td>\n",
              "      <td>mid</td>\n",
              "      <td>low</td>\n",
              "    </tr>\n",
              "    <tr>\n",
              "      <th>...</th>\n",
              "      <td>...</td>\n",
              "      <td>...</td>\n",
              "      <td>...</td>\n",
              "      <td>...</td>\n",
              "      <td>...</td>\n",
              "      <td>...</td>\n",
              "      <td>...</td>\n",
              "      <td>...</td>\n",
              "      <td>...</td>\n",
              "      <td>...</td>\n",
              "    </tr>\n",
              "    <tr>\n",
              "      <th>210463</th>\n",
              "      <td>202004</td>\n",
              "      <td>오픈마켓/소셜</td>\n",
              "      <td>1</td>\n",
              "      <td>D</td>\n",
              "      <td>mid</td>\n",
              "      <td>mid</td>\n",
              "      <td>low</td>\n",
              "      <td>mid</td>\n",
              "      <td>low</td>\n",
              "      <td>mid</td>\n",
              "    </tr>\n",
              "    <tr>\n",
              "      <th>210464</th>\n",
              "      <td>202004</td>\n",
              "      <td>전문몰</td>\n",
              "      <td>1</td>\n",
              "      <td>D</td>\n",
              "      <td>mid</td>\n",
              "      <td>mid</td>\n",
              "      <td>low</td>\n",
              "      <td>mid</td>\n",
              "      <td>low</td>\n",
              "      <td>low</td>\n",
              "    </tr>\n",
              "    <tr>\n",
              "      <th>210465</th>\n",
              "      <td>202004</td>\n",
              "      <td>오픈마켓/소셜</td>\n",
              "      <td>0</td>\n",
              "      <td>C</td>\n",
              "      <td>mid</td>\n",
              "      <td>mid</td>\n",
              "      <td>high</td>\n",
              "      <td>low</td>\n",
              "      <td>low</td>\n",
              "      <td>low</td>\n",
              "    </tr>\n",
              "    <tr>\n",
              "      <th>210466</th>\n",
              "      <td>202004</td>\n",
              "      <td>할인점</td>\n",
              "      <td>0</td>\n",
              "      <td>F</td>\n",
              "      <td>high</td>\n",
              "      <td>low</td>\n",
              "      <td>mid</td>\n",
              "      <td>mid</td>\n",
              "      <td>mid</td>\n",
              "      <td>low</td>\n",
              "    </tr>\n",
              "    <tr>\n",
              "      <th>210467</th>\n",
              "      <td>202004</td>\n",
              "      <td>오픈마켓/소셜</td>\n",
              "      <td>1</td>\n",
              "      <td>A</td>\n",
              "      <td>high</td>\n",
              "      <td>low</td>\n",
              "      <td>mid</td>\n",
              "      <td>mid</td>\n",
              "      <td>mid</td>\n",
              "      <td>mid</td>\n",
              "    </tr>\n",
              "  </tbody>\n",
              "</table>\n",
              "<p>210468 rows × 10 columns</p>\n",
              "</div>"
            ],
            "text/plain": [
              "            YM Category  성별구분 연령대  ... 초등학생자녀스코어 중고생자녀스코어 대학생자녀스코어 전업주부스코어\n",
              "0       202005      할인점     0   F  ...      high      mid      low     low\n",
              "1       202005       취미     0   B  ...       mid      mid      low     low\n",
              "2       202005  오픈마켓/소셜     1   D  ...       mid      mid      low     mid\n",
              "3       202005       뷰티     0   D  ...       mid      mid      low     low\n",
              "4       202005  오픈마켓/소셜     0   G  ...       mid      mid      mid     low\n",
              "...        ...      ...   ...  ..  ...       ...      ...      ...     ...\n",
              "210463  202004  오픈마켓/소셜     1   D  ...       low      mid      low     mid\n",
              "210464  202004      전문몰     1   D  ...       low      mid      low     low\n",
              "210465  202004  오픈마켓/소셜     0   C  ...      high      low      low     low\n",
              "210466  202004      할인점     0   F  ...       mid      mid      mid     low\n",
              "210467  202004  오픈마켓/소셜     1   A  ...       mid      mid      mid     mid\n",
              "\n",
              "[210468 rows x 10 columns]"
            ]
          },
          "metadata": {
            "tags": []
          },
          "execution_count": 111
        }
      ]
    },
    {
      "cell_type": "code",
      "metadata": {
        "id": "ouDi_BJi3tY0",
        "colab_type": "code",
        "colab": {
          "base_uri": "https://localhost:8080/",
          "height": 624
        },
        "outputId": "c5add24c-14a6-47f5-e19b-443f3825526f"
      },
      "source": [
        "f, ax = plt.subplots(figsize=(10,10))\n",
        "sns.countplot(x=\"Category\", hue=\"YM\", palette='flag', data=trend, order=['디저트', '호텔/숙박', '항공/여행사', '취미', '할인점', '뷰티', '면세점', '종합몰', '오픈마켓/소셜', '전문몰'])"
      ],
      "execution_count": 169,
      "outputs": [
        {
          "output_type": "execute_result",
          "data": {
            "text/plain": [
              "<matplotlib.axes._subplots.AxesSubplot at 0x7fa5db96ac88>"
            ]
          },
          "metadata": {
            "tags": []
          },
          "execution_count": 169
        },
        {
          "output_type": "display_data",
          "data": {
            "image/png": "[encoded data removed]",
            "text/plain": [
              "<Figure size 720x720 with 1 Axes>"
            ]
          },
          "metadata": {
            "tags": [],
            "needs_background": "light"
          }
        }
      ]
    },
    {
      "cell_type": "markdown",
      "metadata": {
        "id": "XLmL_QxcJtHa",
        "colab_type": "text"
      },
      "source": [
        "- **2020년이 2019년보다 신용카드 이용건수가 31,102 건이 줄었음**\n",
        "- 241570 - 210468 = 31102"
      ]
    },
    {
      "cell_type": "markdown",
      "metadata": {
        "id": "4HBzq9XeOaDV",
        "colab_type": "text"
      },
      "source": [
        "- 디저트 : 2020년 04월보다 05월에 사용량 늘어남"
      ]
    },
    {
      "cell_type": "markdown",
      "metadata": {
        "id": "xhGA7-OftZNB",
        "colab_type": "text"
      },
      "source": [
        "- 자세히 보기 위해 같은 달로 묶기\n",
        " + 4월(s04)과 5월(s05)"
      ]
    },
    {
      "cell_type": "code",
      "metadata": {
        "id": "iUQb5fJjfeIS",
        "colab_type": "code",
        "colab": {}
      },
      "source": [
        "s201904 = trend[trend.YM==201904]\n",
        "s201905 = trend[trend.YM==201905]\n",
        "s202004 = trend[trend.YM==202004]\n",
        "s202005 = trend[trend.YM==202005]"
      ],
      "execution_count": null,
      "outputs": []
    },
    {
      "cell_type": "code",
      "metadata": {
        "id": "MjixJ9qPfd9U",
        "colab_type": "code",
        "colab": {
          "base_uri": "https://localhost:8080/",
          "height": 419
        },
        "outputId": "8d737a00-f5d5-4ad7-9051-f4b53b5f3c92"
      },
      "source": [
        "s04 = pd.concat([s201904,s202004])\n",
        "s04"
      ],
      "execution_count": null,
      "outputs": [
        {
          "output_type": "execute_result",
          "data": {
            "text/html": [
              "<div>\n",
              "<style scoped>\n",
              "    .dataframe tbody tr th:only-of-type {\n",
              "        vertical-align: middle;\n",
              "    }\n",
              "\n",
              "    .dataframe tbody tr th {\n",
              "        vertical-align: top;\n",
              "    }\n",
              "\n",
              "    .dataframe thead th {\n",
              "        text-align: right;\n",
              "    }\n",
              "</style>\n",
              "<table border=\"1\" class=\"dataframe\">\n",
              "  <thead>\n",
              "    <tr style=\"text-align: right;\">\n",
              "      <th></th>\n",
              "      <th>YM</th>\n",
              "      <th>Category</th>\n",
              "      <th>성별구분</th>\n",
              "      <th>연령대</th>\n",
              "      <th>기혼스코어</th>\n",
              "      <th>유아자녀스코어</th>\n",
              "      <th>초등학생자녀스코어</th>\n",
              "      <th>중고생자녀스코어</th>\n",
              "      <th>대학생자녀스코어</th>\n",
              "      <th>전업주부스코어</th>\n",
              "    </tr>\n",
              "  </thead>\n",
              "  <tbody>\n",
              "    <tr>\n",
              "      <th>331919</th>\n",
              "      <td>201904</td>\n",
              "      <td>할인점</td>\n",
              "      <td>0</td>\n",
              "      <td>H</td>\n",
              "      <td>high</td>\n",
              "      <td>low</td>\n",
              "      <td>low</td>\n",
              "      <td>low</td>\n",
              "      <td>low</td>\n",
              "      <td>low</td>\n",
              "    </tr>\n",
              "    <tr>\n",
              "      <th>331920</th>\n",
              "      <td>201904</td>\n",
              "      <td>할인점</td>\n",
              "      <td>0</td>\n",
              "      <td>E</td>\n",
              "      <td>low</td>\n",
              "      <td>low</td>\n",
              "      <td>low</td>\n",
              "      <td>low</td>\n",
              "      <td>low</td>\n",
              "      <td>low</td>\n",
              "    </tr>\n",
              "    <tr>\n",
              "      <th>331921</th>\n",
              "      <td>201904</td>\n",
              "      <td>할인점</td>\n",
              "      <td>1</td>\n",
              "      <td>A</td>\n",
              "      <td>high</td>\n",
              "      <td>low</td>\n",
              "      <td>mid</td>\n",
              "      <td>mid</td>\n",
              "      <td>low</td>\n",
              "      <td>mid</td>\n",
              "    </tr>\n",
              "    <tr>\n",
              "      <th>331922</th>\n",
              "      <td>201904</td>\n",
              "      <td>전문몰</td>\n",
              "      <td>1</td>\n",
              "      <td>D</td>\n",
              "      <td>high</td>\n",
              "      <td>mid</td>\n",
              "      <td>high</td>\n",
              "      <td>mid</td>\n",
              "      <td>low</td>\n",
              "      <td>high</td>\n",
              "    </tr>\n",
              "    <tr>\n",
              "      <th>331923</th>\n",
              "      <td>201904</td>\n",
              "      <td>취미</td>\n",
              "      <td>0</td>\n",
              "      <td>F</td>\n",
              "      <td>high</td>\n",
              "      <td>mid</td>\n",
              "      <td>high</td>\n",
              "      <td>mid</td>\n",
              "      <td>mid</td>\n",
              "      <td>low</td>\n",
              "    </tr>\n",
              "    <tr>\n",
              "      <th>...</th>\n",
              "      <td>...</td>\n",
              "      <td>...</td>\n",
              "      <td>...</td>\n",
              "      <td>...</td>\n",
              "      <td>...</td>\n",
              "      <td>...</td>\n",
              "      <td>...</td>\n",
              "      <td>...</td>\n",
              "      <td>...</td>\n",
              "      <td>...</td>\n",
              "    </tr>\n",
              "    <tr>\n",
              "      <th>210463</th>\n",
              "      <td>202004</td>\n",
              "      <td>오픈마켓/소셜</td>\n",
              "      <td>1</td>\n",
              "      <td>D</td>\n",
              "      <td>mid</td>\n",
              "      <td>mid</td>\n",
              "      <td>low</td>\n",
              "      <td>mid</td>\n",
              "      <td>low</td>\n",
              "      <td>mid</td>\n",
              "    </tr>\n",
              "    <tr>\n",
              "      <th>210464</th>\n",
              "      <td>202004</td>\n",
              "      <td>전문몰</td>\n",
              "      <td>1</td>\n",
              "      <td>D</td>\n",
              "      <td>mid</td>\n",
              "      <td>mid</td>\n",
              "      <td>low</td>\n",
              "      <td>mid</td>\n",
              "      <td>low</td>\n",
              "      <td>low</td>\n",
              "    </tr>\n",
              "    <tr>\n",
              "      <th>210465</th>\n",
              "      <td>202004</td>\n",
              "      <td>오픈마켓/소셜</td>\n",
              "      <td>0</td>\n",
              "      <td>C</td>\n",
              "      <td>mid</td>\n",
              "      <td>mid</td>\n",
              "      <td>high</td>\n",
              "      <td>low</td>\n",
              "      <td>low</td>\n",
              "      <td>low</td>\n",
              "    </tr>\n",
              "    <tr>\n",
              "      <th>210466</th>\n",
              "      <td>202004</td>\n",
              "      <td>할인점</td>\n",
              "      <td>0</td>\n",
              "      <td>F</td>\n",
              "      <td>high</td>\n",
              "      <td>low</td>\n",
              "      <td>mid</td>\n",
              "      <td>mid</td>\n",
              "      <td>mid</td>\n",
              "      <td>low</td>\n",
              "    </tr>\n",
              "    <tr>\n",
              "      <th>210467</th>\n",
              "      <td>202004</td>\n",
              "      <td>오픈마켓/소셜</td>\n",
              "      <td>1</td>\n",
              "      <td>A</td>\n",
              "      <td>high</td>\n",
              "      <td>low</td>\n",
              "      <td>mid</td>\n",
              "      <td>mid</td>\n",
              "      <td>mid</td>\n",
              "      <td>mid</td>\n",
              "    </tr>\n",
              "  </tbody>\n",
              "</table>\n",
              "<p>221493 rows × 10 columns</p>\n",
              "</div>"
            ],
            "text/plain": [
              "            YM Category  성별구분 연령대  ... 초등학생자녀스코어 중고생자녀스코어 대학생자녀스코어 전업주부스코어\n",
              "331919  201904      할인점     0   H  ...       low      low      low     low\n",
              "331920  201904      할인점     0   E  ...       low      low      low     low\n",
              "331921  201904      할인점     1   A  ...       mid      mid      low     mid\n",
              "331922  201904      전문몰     1   D  ...      high      mid      low    high\n",
              "331923  201904       취미     0   F  ...      high      mid      mid     low\n",
              "...        ...      ...   ...  ..  ...       ...      ...      ...     ...\n",
              "210463  202004  오픈마켓/소셜     1   D  ...       low      mid      low     mid\n",
              "210464  202004      전문몰     1   D  ...       low      mid      low     low\n",
              "210465  202004  오픈마켓/소셜     0   C  ...      high      low      low     low\n",
              "210466  202004      할인점     0   F  ...       mid      mid      mid     low\n",
              "210467  202004  오픈마켓/소셜     1   A  ...       mid      mid      mid     mid\n",
              "\n",
              "[221493 rows x 10 columns]"
            ]
          },
          "metadata": {
            "tags": []
          },
          "execution_count": 133
        }
      ]
    },
    {
      "cell_type": "code",
      "metadata": {
        "id": "v2QLQZ6WoMSk",
        "colab_type": "code",
        "colab": {
          "base_uri": "https://localhost:8080/",
          "height": 419
        },
        "outputId": "57c7cb95-ddad-4d03-d477-5b883cf962c1"
      },
      "source": [
        "s05 = pd.concat([s201905,s202005])\n",
        "s05"
      ],
      "execution_count": null,
      "outputs": [
        {
          "output_type": "execute_result",
          "data": {
            "text/html": [
              "<div>\n",
              "<style scoped>\n",
              "    .dataframe tbody tr th:only-of-type {\n",
              "        vertical-align: middle;\n",
              "    }\n",
              "\n",
              "    .dataframe tbody tr th {\n",
              "        vertical-align: top;\n",
              "    }\n",
              "\n",
              "    .dataframe thead th {\n",
              "        text-align: right;\n",
              "    }\n",
              "</style>\n",
              "<table border=\"1\" class=\"dataframe\">\n",
              "  <thead>\n",
              "    <tr style=\"text-align: right;\">\n",
              "      <th></th>\n",
              "      <th>YM</th>\n",
              "      <th>Category</th>\n",
              "      <th>성별구분</th>\n",
              "      <th>연령대</th>\n",
              "      <th>기혼스코어</th>\n",
              "      <th>유아자녀스코어</th>\n",
              "      <th>초등학생자녀스코어</th>\n",
              "      <th>중고생자녀스코어</th>\n",
              "      <th>대학생자녀스코어</th>\n",
              "      <th>전업주부스코어</th>\n",
              "    </tr>\n",
              "  </thead>\n",
              "  <tbody>\n",
              "    <tr>\n",
              "      <th>210468</th>\n",
              "      <td>201905</td>\n",
              "      <td>전문몰</td>\n",
              "      <td>1</td>\n",
              "      <td>E</td>\n",
              "      <td>low</td>\n",
              "      <td>low</td>\n",
              "      <td>low</td>\n",
              "      <td>low</td>\n",
              "      <td>low</td>\n",
              "      <td>mid</td>\n",
              "    </tr>\n",
              "    <tr>\n",
              "      <th>210469</th>\n",
              "      <td>201905</td>\n",
              "      <td>전문몰</td>\n",
              "      <td>1</td>\n",
              "      <td>E</td>\n",
              "      <td>mid</td>\n",
              "      <td>mid</td>\n",
              "      <td>low</td>\n",
              "      <td>low</td>\n",
              "      <td>low</td>\n",
              "      <td>mid</td>\n",
              "    </tr>\n",
              "    <tr>\n",
              "      <th>210470</th>\n",
              "      <td>201905</td>\n",
              "      <td>할인점</td>\n",
              "      <td>1</td>\n",
              "      <td>F</td>\n",
              "      <td>high</td>\n",
              "      <td>low</td>\n",
              "      <td>mid</td>\n",
              "      <td>mid</td>\n",
              "      <td>mid</td>\n",
              "      <td>mid</td>\n",
              "    </tr>\n",
              "    <tr>\n",
              "      <th>210471</th>\n",
              "      <td>201905</td>\n",
              "      <td>전문몰</td>\n",
              "      <td>0</td>\n",
              "      <td>G</td>\n",
              "      <td>high</td>\n",
              "      <td>low</td>\n",
              "      <td>mid</td>\n",
              "      <td>mid</td>\n",
              "      <td>mid</td>\n",
              "      <td>low</td>\n",
              "    </tr>\n",
              "    <tr>\n",
              "      <th>210472</th>\n",
              "      <td>201905</td>\n",
              "      <td>전문몰</td>\n",
              "      <td>1</td>\n",
              "      <td>H</td>\n",
              "      <td>high</td>\n",
              "      <td>low</td>\n",
              "      <td>low</td>\n",
              "      <td>low</td>\n",
              "      <td>mid</td>\n",
              "      <td>mid</td>\n",
              "    </tr>\n",
              "    <tr>\n",
              "      <th>...</th>\n",
              "      <td>...</td>\n",
              "      <td>...</td>\n",
              "      <td>...</td>\n",
              "      <td>...</td>\n",
              "      <td>...</td>\n",
              "      <td>...</td>\n",
              "      <td>...</td>\n",
              "      <td>...</td>\n",
              "      <td>...</td>\n",
              "      <td>...</td>\n",
              "    </tr>\n",
              "    <tr>\n",
              "      <th>109089</th>\n",
              "      <td>202005</td>\n",
              "      <td>전문몰</td>\n",
              "      <td>1</td>\n",
              "      <td>F</td>\n",
              "      <td>high</td>\n",
              "      <td>low</td>\n",
              "      <td>mid</td>\n",
              "      <td>mid</td>\n",
              "      <td>low</td>\n",
              "      <td>mid</td>\n",
              "    </tr>\n",
              "    <tr>\n",
              "      <th>109090</th>\n",
              "      <td>202005</td>\n",
              "      <td>할인점</td>\n",
              "      <td>1</td>\n",
              "      <td>A</td>\n",
              "      <td>high</td>\n",
              "      <td>low</td>\n",
              "      <td>mid</td>\n",
              "      <td>mid</td>\n",
              "      <td>low</td>\n",
              "      <td>mid</td>\n",
              "    </tr>\n",
              "    <tr>\n",
              "      <th>109091</th>\n",
              "      <td>202005</td>\n",
              "      <td>디저트</td>\n",
              "      <td>1</td>\n",
              "      <td>H</td>\n",
              "      <td>high</td>\n",
              "      <td>low</td>\n",
              "      <td>low</td>\n",
              "      <td>low</td>\n",
              "      <td>low</td>\n",
              "      <td>mid</td>\n",
              "    </tr>\n",
              "    <tr>\n",
              "      <th>109092</th>\n",
              "      <td>202005</td>\n",
              "      <td>오픈마켓/소셜</td>\n",
              "      <td>1</td>\n",
              "      <td>A</td>\n",
              "      <td>high</td>\n",
              "      <td>low</td>\n",
              "      <td>mid</td>\n",
              "      <td>mid</td>\n",
              "      <td>low</td>\n",
              "      <td>mid</td>\n",
              "    </tr>\n",
              "    <tr>\n",
              "      <th>109093</th>\n",
              "      <td>202005</td>\n",
              "      <td>디저트</td>\n",
              "      <td>0</td>\n",
              "      <td>C</td>\n",
              "      <td>mid</td>\n",
              "      <td>high</td>\n",
              "      <td>mid</td>\n",
              "      <td>low</td>\n",
              "      <td>low</td>\n",
              "      <td>low</td>\n",
              "    </tr>\n",
              "  </tbody>\n",
              "</table>\n",
              "<p>230545 rows × 10 columns</p>\n",
              "</div>"
            ],
            "text/plain": [
              "            YM Category  성별구분 연령대  ... 초등학생자녀스코어 중고생자녀스코어 대학생자녀스코어 전업주부스코어\n",
              "210468  201905      전문몰     1   E  ...       low      low      low     mid\n",
              "210469  201905      전문몰     1   E  ...       low      low      low     mid\n",
              "210470  201905      할인점     1   F  ...       mid      mid      mid     mid\n",
              "210471  201905      전문몰     0   G  ...       mid      mid      mid     low\n",
              "210472  201905      전문몰     1   H  ...       low      low      mid     mid\n",
              "...        ...      ...   ...  ..  ...       ...      ...      ...     ...\n",
              "109089  202005      전문몰     1   F  ...       mid      mid      low     mid\n",
              "109090  202005      할인점     1   A  ...       mid      mid      low     mid\n",
              "109091  202005      디저트     1   H  ...       low      low      low     mid\n",
              "109092  202005  오픈마켓/소셜     1   A  ...       mid      mid      low     mid\n",
              "109093  202005      디저트     0   C  ...       mid      low      low     low\n",
              "\n",
              "[230545 rows x 10 columns]"
            ]
          },
          "metadata": {
            "tags": []
          },
          "execution_count": 134
        }
      ]
    },
    {
      "cell_type": "markdown",
      "metadata": {
        "id": "blv-qzy40tbb",
        "colab_type": "text"
      },
      "source": [
        "- seaborn 한글"
      ]
    },
    {
      "cell_type": "code",
      "metadata": {
        "id": "WeeyAo3POkP-",
        "colab_type": "code",
        "colab": {
          "base_uri": "https://localhost:8080/",
          "height": 377
        },
        "outputId": "b895875a-b875-43b2-ae41-187df16ecde4"
      },
      "source": [
        "!sudo apt-get install -y fonts-nanum\n",
        "!sudo fc-cache -fv\n",
        "!rm ~/.cache/matplotlib -rf"
      ],
      "execution_count": null,
      "outputs": [
        {
          "output_type": "stream",
          "text": [
            "Reading package lists... Done\n",
            "Building dependency tree       \n",
            "Reading state information... Done\n",
            "fonts-nanum is already the newest version (20170925-1).\n",
            "The following package was automatically installed and is no longer required:\n",
            "  libnvidia-common-440\n",
            "Use 'sudo apt autoremove' to remove it.\n",
            "0 upgraded, 0 newly installed, 0 to remove and 35 not upgraded.\n",
            "/usr/share/fonts: caching, new cache contents: 0 fonts, 1 dirs\n",
            "/usr/share/fonts/truetype: caching, new cache contents: 0 fonts, 3 dirs\n",
            "/usr/share/fonts/truetype/humor-sans: caching, new cache contents: 1 fonts, 0 dirs\n",
            "/usr/share/fonts/truetype/liberation: caching, new cache contents: 16 fonts, 0 dirs\n",
            "/usr/share/fonts/truetype/nanum: caching, new cache contents: 10 fonts, 0 dirs\n",
            "/usr/local/share/fonts: caching, new cache contents: 0 fonts, 0 dirs\n",
            "/root/.local/share/fonts: skipping, no such directory\n",
            "/root/.fonts: skipping, no such directory\n",
            "/var/cache/fontconfig: cleaning cache directory\n",
            "/root/.cache/fontconfig: not cleaning non-existent cache directory\n",
            "/root/.fontconfig: not cleaning non-existent cache directory\n",
            "fc-cache: succeeded\n"
          ],
          "name": "stdout"
        }
      ]
    },
    {
      "cell_type": "code",
      "metadata": {
        "id": "EP7HIxD7OnCV",
        "colab_type": "code",
        "colab": {}
      },
      "source": [
        "import matplotlib.pyplot as plt\n",
        "\n",
        "plt.rc('font', family='NanumBarunGothic') "
      ],
      "execution_count": null,
      "outputs": []
    },
    {
      "cell_type": "markdown",
      "metadata": {
        "id": "HXvGgW1j0w0C",
        "colab_type": "text"
      },
      "source": [
        "- 신용카드 건수 달 비교"
      ]
    },
    {
      "cell_type": "code",
      "metadata": {
        "id": "8lFU1tGQFGba",
        "colab_type": "code",
        "colab": {
          "base_uri": "https://localhost:8080/",
          "height": 624
        },
        "outputId": "ac153ec3-3819-44e0-99dc-41f8fd7faf4f"
      },
      "source": [
        "# 04월 비교\n",
        "f, ax = plt.subplots(figsize=(10,10))\n",
        "sns.countplot(x=\"Category\", hue=\"YM\", palette='Oranges', data=s04, order=['디저트', '호텔/숙박', '항공/여행사', '취미', '할인점', '뷰티', '면세점', '종합몰', '오픈마켓/소셜', '전문몰'])"
      ],
      "execution_count": null,
      "outputs": [
        {
          "output_type": "execute_result",
          "data": {
            "text/plain": [
              "<matplotlib.axes._subplots.AxesSubplot at 0x7fa5dc0cbfd0>"
            ]
          },
          "metadata": {
            "tags": []
          },
          "execution_count": 155
        },
        {
          "output_type": "display_data",
          "data": {
            "image/png": "[encoded data removed]",
            "text/plain": [
              "<Figure size 720x720 with 1 Axes>"
            ]
          },
          "metadata": {
            "tags": [],
            "needs_background": "light"
          }
        }
      ]
    },
    {
      "cell_type": "code",
      "metadata": {
        "id": "WUmy7PVAdYdU",
        "colab_type": "code",
        "colab": {
          "base_uri": "https://localhost:8080/",
          "height": 624
        },
        "outputId": "5dc63034-d7cc-41fe-cba8-637046fbc742"
      },
      "source": [
        "# 05월 비교\n",
        "f, ax = plt.subplots(figsize=(10,10))\n",
        "sns.countplot(x=\"Category\", hue=\"YM\", palette='Purples', data=s05, order=['디저트', '호텔/숙박', '항공/여행사', '취미', '할인점', '뷰티', '면세점', '종합몰', '오픈마켓/소셜', '전문몰'])"
      ],
      "execution_count": null,
      "outputs": [
        {
          "output_type": "execute_result",
          "data": {
            "text/plain": [
              "<matplotlib.axes._subplots.AxesSubplot at 0x7fa5dc215978>"
            ]
          },
          "metadata": {
            "tags": []
          },
          "execution_count": 156
        },
        {
          "output_type": "display_data",
          "data": {
            "image/png": "[encoded data removed]",
            "text/plain": [
              "<Figure size 720x720 with 1 Axes>"
            ]
          },
          "metadata": {
            "tags": [],
            "needs_background": "light"
          }
        }
      ]
    },
    {
      "cell_type": "markdown",
      "metadata": {
        "id": "s842bqx0J2c5",
        "colab_type": "text"
      },
      "source": [
        "- 2019년과 대비하여 신용카드 이용 건수 줄어든 업종\n",
        " + 디저트, 호텔/숙박, 항공/여행사, 취미, 할인점, 뷰티, 면세점, 종합몰\n",
        "- 2019년과 대비하여 신용카드 이용 건수 늘어난 업종\n",
        " + 오픈마켓/소셜, 전문몰"
      ]
    },
    {
      "cell_type": "markdown",
      "metadata": {
        "id": "zP1JcQAX0Ue9",
        "colab_type": "text"
      },
      "source": [
        "![image.png](data:image/png;base64,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)"
      ]
    },
    {
      "cell_type": "markdown",
      "metadata": {
        "id": "A43v5qz82mhc",
        "colab_type": "text"
      },
      "source": [
        "- *업종 예시 데이터에는 항공/여행상품 이라고 기재되어 있으나, 주어진 csv파일에는 항공/여행사로 기재되어 있음"
      ]
    },
    {
      "cell_type": "markdown",
      "metadata": {
        "id": "sk4mgv85xXxd",
        "colab_type": "text"
      },
      "source": [
        "- 하락세가 큰 업종은 할인점 (오프라인 마트, 아울렛 등)\n",
        "- 상승세가 큰 업종은 오픈마켓/소셜 (온라인 쇼핑몰)\n",
        "\n",
        "- 코로나의 여파로 인하여 사람들이 오프라인을 꺼리고 온라인을 선호하게 되었다."
      ]
    }
  ]
}